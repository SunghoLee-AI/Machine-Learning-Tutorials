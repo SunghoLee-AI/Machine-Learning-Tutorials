{
 "cells": [
  {
   "cell_type": "markdown",
   "metadata": {},
   "source": [
    "# King County House Price Prediction\n",
    "## Author: SUNGHO LEE, 2018/12\n",
    "### Contact Info: DRLEE7979@GMAIL.COM"
   ]
  },
  {
   "cell_type": "markdown",
   "metadata": {},
   "source": [
    "## Instructions\n",
    "\n",
    "1. Generate a clear statement problem and provide location for dataset\n",
    "2. Provide a clear solution to the problem for a non-technical audience\n",
    "3. Visually explore the data to generate insight and include summary statistics\n",
    "4. Use an appropriate statistical analysis method\n",
    "5. Prepare the data via cleaning, normalization, encoding, et cetera\n",
    "6. Generate and evaluate a working model (hypothesis, linear, or time series)\n",
    "7. Draw direct inferences and conclusions from model results\n",
    "8. Use professional coding standards and techniques including:\n",
    "\n",
    "    - explanatory markdown text\n",
    "    - proper code comments\n",
    "    - functions to minimize redundant code\n",
    "    - minimize hard-coded variables"
   ]
  },
  {
   "cell_type": "markdown",
   "metadata": {},
   "source": [
    "### Note\n",
    "Please use the <a class=\"icon-pdf\" title=\"Independent Project Rubric\" href=\"https://library.startlearninglabs.uw.edu/DATASCI410/Handouts/DATASCI%20410%20Independent%20Project%20Rubric.pdf\" target=\"_blank\" rel=\"noopener\">Rubric</a> as a general guide for your project."
   ]
  },
  {
   "cell_type": "markdown",
   "metadata": {},
   "source": [
    "# Abstract\n",
    "- Original source: https://www.kaggle.com/harlfoxem/housesalesprediction\n",
    "\n",
    "## Problem\n",
    "- What is the most important factor that affects and correlates with house price?\n",
    "- Can we build a reliable regression model to represent/predict the house price given the heatures of the house?\n",
    "- Is is true that the 2 or 3 story house is most likely more expensive than 1-story house?\n",
    "\n",
    "## Conclusion\n",
    "- I discovered in my data exploration part that there are many features of the house that are highly inter-correlated which will make my regression model with large variance of the model coefficients. This motivates me to employ SVD regression model or Ridge/Lasso regression models instead of a simple OLS model.\n",
    "- sqft_living feature is the most strong indicator/predictor of the house price.\n",
    "- Number of bedrooms/bathrooms also the strong indicator of the house price.\n",
    "- grade feature is also highly correlated with the house price, but the evaluation of the grade might be somewhat subjective and hard to quantify\n",
    "- Since there are many features that are highly dependent to each other, Ridge or Lasso Regression models are highly recommended as demonstrated in my coding below.\n",
    "- All my comments or analysis results are shown below.\n",
    "\n",
    "Thank you so much\n",
    "\n",
    "Sincerely,\n",
    "\n",
    "Sungho Lee"
   ]
  },
  {
   "cell_type": "markdown",
   "metadata": {},
   "source": [
    "# ----------------------------------------------------------------------------------------------\n",
    "# ----------------------------------------------------------------------------------------------"
   ]
  },
  {
   "cell_type": "markdown",
   "metadata": {},
   "source": [
    "# ANALYSIS PART 1 - INITIAL EXPLORATION OF DATA SET - START"
   ]
  },
  {
   "cell_type": "code",
   "execution_count": 39,
   "metadata": {},
   "outputs": [],
   "source": [
    "# Load necessary libraries\n",
    "\n",
    "#\n",
    "import pandas as pd\n",
    "import numpy as np\n",
    "import matplotlib.pyplot as plt\n",
    "import seaborn as sns\n",
    "\n",
    "#\n",
    "%matplotlib inline\n",
    "from sklearn import linear_model\n",
    "from sklearn.linear_model import LinearRegression\n",
    "#\n",
    "import statsmodels.formula.api as sm\n",
    "#"
   ]
  },
  {
   "cell_type": "code",
   "execution_count": 40,
   "metadata": {},
   "outputs": [],
   "source": [
    "# Create a scale function for a column in a pandas df\n",
    "def scale(col):\n",
    "    mean_col = np.mean(col)\n",
    "    sd_col = np.std(col)\n",
    "    std = (col - mean_col) / sd_col\n",
    "    return std"
   ]
  },
  {
   "cell_type": "code",
   "execution_count": 41,
   "metadata": {
    "scrolled": false
   },
   "outputs": [
    {
     "name": "stdout",
     "output_type": "stream",
     "text": [
      "(21613, 21)\n",
      "id                 int64\n",
      "date              object\n",
      "price            float64\n",
      "bedrooms           int64\n",
      "bathrooms        float64\n",
      "sqft_living        int64\n",
      "sqft_lot           int64\n",
      "floors           float64\n",
      "waterfront         int64\n",
      "view               int64\n",
      "condition          int64\n",
      "grade              int64\n",
      "sqft_above         int64\n",
      "sqft_basement      int64\n",
      "yr_built           int64\n",
      "yr_renovated       int64\n",
      "zipcode            int64\n",
      "lat              float64\n",
      "long             float64\n",
      "sqft_living15      int64\n",
      "sqft_lot15         int64\n",
      "dtype: object\n",
      "                 id         price      bedrooms     bathrooms   sqft_living  \\\n",
      "count  2.161300e+04  2.161300e+04  21613.000000  21613.000000  21613.000000   \n",
      "mean   4.580302e+09  5.400881e+05      3.370842      2.114757   2079.899736   \n",
      "std    2.876566e+09  3.671272e+05      0.930062      0.770163    918.440897   \n",
      "min    1.000102e+06  7.500000e+04      0.000000      0.000000    290.000000   \n",
      "25%    2.123049e+09  3.219500e+05      3.000000      1.750000   1427.000000   \n",
      "50%    3.904930e+09  4.500000e+05      3.000000      2.250000   1910.000000   \n",
      "75%    7.308900e+09  6.450000e+05      4.000000      2.500000   2550.000000   \n",
      "max    9.900000e+09  7.700000e+06     33.000000      8.000000  13540.000000   \n",
      "\n",
      "           sqft_lot        floors    waterfront          view     condition  \\\n",
      "count  2.161300e+04  21613.000000  21613.000000  21613.000000  21613.000000   \n",
      "mean   1.510697e+04      1.494309      0.007542      0.234303      3.409430   \n",
      "std    4.142051e+04      0.539989      0.086517      0.766318      0.650743   \n",
      "min    5.200000e+02      1.000000      0.000000      0.000000      1.000000   \n",
      "25%    5.040000e+03      1.000000      0.000000      0.000000      3.000000   \n",
      "50%    7.618000e+03      1.500000      0.000000      0.000000      3.000000   \n",
      "75%    1.068800e+04      2.000000      0.000000      0.000000      4.000000   \n",
      "max    1.651359e+06      3.500000      1.000000      4.000000      5.000000   \n",
      "\n",
      "              grade    sqft_above  sqft_basement      yr_built  yr_renovated  \\\n",
      "count  21613.000000  21613.000000   21613.000000  21613.000000  21613.000000   \n",
      "mean       7.656873   1788.390691     291.509045   1971.005136     84.402258   \n",
      "std        1.175459    828.090978     442.575043     29.373411    401.679240   \n",
      "min        1.000000    290.000000       0.000000   1900.000000      0.000000   \n",
      "25%        7.000000   1190.000000       0.000000   1951.000000      0.000000   \n",
      "50%        7.000000   1560.000000       0.000000   1975.000000      0.000000   \n",
      "75%        8.000000   2210.000000     560.000000   1997.000000      0.000000   \n",
      "max       13.000000   9410.000000    4820.000000   2015.000000   2015.000000   \n",
      "\n",
      "            zipcode           lat          long  sqft_living15     sqft_lot15  \n",
      "count  21613.000000  21613.000000  21613.000000   21613.000000   21613.000000  \n",
      "mean   98077.939805     47.560053   -122.213896    1986.552492   12768.455652  \n",
      "std       53.505026      0.138564      0.140828     685.391304   27304.179631  \n",
      "min    98001.000000     47.155900   -122.519000     399.000000     651.000000  \n",
      "25%    98033.000000     47.471000   -122.328000    1490.000000    5100.000000  \n",
      "50%    98065.000000     47.571800   -122.230000    1840.000000    7620.000000  \n",
      "75%    98118.000000     47.678000   -122.125000    2360.000000   10083.000000  \n",
      "max    98199.000000     47.777600   -121.315000    6210.000000  871200.000000  \n",
      "           id             date      price  bedrooms  bathrooms  sqft_living  \\\n",
      "0  7129300520  20141013T000000   221900.0         3       1.00         1180   \n",
      "1  6414100192  20141209T000000   538000.0         3       2.25         2570   \n",
      "2  5631500400  20150225T000000   180000.0         2       1.00          770   \n",
      "3  2487200875  20141209T000000   604000.0         4       3.00         1960   \n",
      "4  1954400510  20150218T000000   510000.0         3       2.00         1680   \n",
      "5  7237550310  20140512T000000  1225000.0         4       4.50         5420   \n",
      "6  1321400060  20140627T000000   257500.0         3       2.25         1715   \n",
      "7  2008000270  20150115T000000   291850.0         3       1.50         1060   \n",
      "8  2414600126  20150415T000000   229500.0         3       1.00         1780   \n",
      "9  3793500160  20150312T000000   323000.0         3       2.50         1890   \n",
      "\n",
      "   sqft_lot  floors  waterfront  view     ...      grade  sqft_above  \\\n",
      "0      5650     1.0           0     0     ...          7        1180   \n",
      "1      7242     2.0           0     0     ...          7        2170   \n",
      "2     10000     1.0           0     0     ...          6         770   \n",
      "3      5000     1.0           0     0     ...          7        1050   \n",
      "4      8080     1.0           0     0     ...          8        1680   \n",
      "5    101930     1.0           0     0     ...         11        3890   \n",
      "6      6819     2.0           0     0     ...          7        1715   \n",
      "7      9711     1.0           0     0     ...          7        1060   \n",
      "8      7470     1.0           0     0     ...          7        1050   \n",
      "9      6560     2.0           0     0     ...          7        1890   \n",
      "\n",
      "   sqft_basement  yr_built  yr_renovated  zipcode      lat     long  \\\n",
      "0              0      1955             0    98178  47.5112 -122.257   \n",
      "1            400      1951          1991    98125  47.7210 -122.319   \n",
      "2              0      1933             0    98028  47.7379 -122.233   \n",
      "3            910      1965             0    98136  47.5208 -122.393   \n",
      "4              0      1987             0    98074  47.6168 -122.045   \n",
      "5           1530      2001             0    98053  47.6561 -122.005   \n",
      "6              0      1995             0    98003  47.3097 -122.327   \n",
      "7              0      1963             0    98198  47.4095 -122.315   \n",
      "8            730      1960             0    98146  47.5123 -122.337   \n",
      "9              0      2003             0    98038  47.3684 -122.031   \n",
      "\n",
      "   sqft_living15  sqft_lot15  \n",
      "0           1340        5650  \n",
      "1           1690        7639  \n",
      "2           2720        8062  \n",
      "3           1360        5000  \n",
      "4           1800        7503  \n",
      "5           4760      101930  \n",
      "6           2238        6819  \n",
      "7           1650        9711  \n",
      "8           1780        8113  \n",
      "9           2390        7570  \n",
      "\n",
      "[10 rows x 21 columns]\n",
      "               id             date      price  bedrooms  bathrooms  \\\n",
      "21603  7852140040  20140825T000000   507250.0         3       2.50   \n",
      "21604  9834201367  20150126T000000   429000.0         3       2.00   \n",
      "21605  3448900210  20141014T000000   610685.0         4       2.50   \n",
      "21606  7936000429  20150326T000000  1007500.0         4       3.50   \n",
      "21607  2997800021  20150219T000000   475000.0         3       2.50   \n",
      "21608   263000018  20140521T000000   360000.0         3       2.50   \n",
      "21609  6600060120  20150223T000000   400000.0         4       2.50   \n",
      "21610  1523300141  20140623T000000   402101.0         2       0.75   \n",
      "21611   291310100  20150116T000000   400000.0         3       2.50   \n",
      "21612  1523300157  20141015T000000   325000.0         2       0.75   \n",
      "\n",
      "       sqft_living  sqft_lot  floors  waterfront  view     ...      grade  \\\n",
      "21603         2270      5536     2.0           0     0     ...          8   \n",
      "21604         1490      1126     3.0           0     0     ...          8   \n",
      "21605         2520      6023     2.0           0     0     ...          9   \n",
      "21606         3510      7200     2.0           0     0     ...          9   \n",
      "21607         1310      1294     2.0           0     0     ...          8   \n",
      "21608         1530      1131     3.0           0     0     ...          8   \n",
      "21609         2310      5813     2.0           0     0     ...          8   \n",
      "21610         1020      1350     2.0           0     0     ...          7   \n",
      "21611         1600      2388     2.0           0     0     ...          8   \n",
      "21612         1020      1076     2.0           0     0     ...          7   \n",
      "\n",
      "       sqft_above  sqft_basement  yr_built  yr_renovated  zipcode      lat  \\\n",
      "21603        2270              0      2003             0    98065  47.5389   \n",
      "21604        1490              0      2014             0    98144  47.5699   \n",
      "21605        2520              0      2014             0    98056  47.5137   \n",
      "21606        2600            910      2009             0    98136  47.5537   \n",
      "21607        1180            130      2008             0    98116  47.5773   \n",
      "21608        1530              0      2009             0    98103  47.6993   \n",
      "21609        2310              0      2014             0    98146  47.5107   \n",
      "21610        1020              0      2009             0    98144  47.5944   \n",
      "21611        1600              0      2004             0    98027  47.5345   \n",
      "21612        1020              0      2008             0    98144  47.5941   \n",
      "\n",
      "          long  sqft_living15  sqft_lot15  \n",
      "21603 -121.881           2270        5731  \n",
      "21604 -122.288           1400        1230  \n",
      "21605 -122.167           2520        6023  \n",
      "21606 -122.398           2050        6200  \n",
      "21607 -122.409           1330        1265  \n",
      "21608 -122.346           1530        1509  \n",
      "21609 -122.362           1830        7200  \n",
      "21610 -122.299           1020        2007  \n",
      "21611 -122.069           1410        1287  \n",
      "21612 -122.299           1020        1357  \n",
      "\n",
      "[10 rows x 21 columns]\n"
     ]
    }
   ],
   "source": [
    "# Location of dataset:\n",
    "# Original source: https://www.kaggle.com/harlfoxem/housesalesprediction\n",
    "# https://library.startlearninglabs.uw.edu/DATASCI410/Datasets/kc_house_data.csv\n",
    "\n",
    "# Load data\n",
    "filename = 'https://library.startlearninglabs.uw.edu/DATASCI410/Datasets/kc_house_data.csv'\n",
    "KCH = pd.read_csv(filename)\n",
    "print(KCH.shape)\n",
    "print(KCH.dtypes)\n",
    "print(KCH.describe())\n",
    "print(KCH.head(10))\n",
    "print(KCH.tail(10))\n"
   ]
  },
  {
   "cell_type": "markdown",
   "metadata": {},
   "source": [
    "### Note:\n",
    "- After review of the data above, I concluded that there is an outlier at bedroom column (a 33-bedrooms). This will need to be replaced/removed.\n",
    "- However, there is an ambiguity on the other columns whether the large values in these columns should be treated as outliear or not. I decided to keep them as it is instead of replacing/removing them.\n",
    "- Also, after few iterations of my regresion analysis and hypothesis test analysis, I concluded that I would need to remove the rows with house price that is higher than a certain threshold (~ 1.5M dollars). In my view, Once the house price is beyond 1.5M dollars, the behavior of house price becomes more uncertain and I would to limit my model to a typical range of house prices."
   ]
  },
  {
   "cell_type": "markdown",
   "metadata": {},
   "source": [
    "### Replacing outlier in Price column with its median:"
   ]
  },
  {
   "cell_type": "code",
   "execution_count": 42,
   "metadata": {},
   "outputs": [
    {
     "name": "stdout",
     "output_type": "stream",
     "text": [
      "                 id         price      bedrooms     bathrooms   sqft_living  \\\n",
      "count  2.161300e+04  2.161300e+04  21613.000000  21613.000000  21613.000000   \n",
      "mean   4.580302e+09  5.400881e+05      3.369471      2.114757   2079.899736   \n",
      "std    2.876566e+09  3.671272e+05      0.907961      0.770163    918.440897   \n",
      "min    1.000102e+06  7.500000e+04      0.000000      0.000000    290.000000   \n",
      "25%    2.123049e+09  3.219500e+05      3.000000      1.750000   1427.000000   \n",
      "50%    3.904930e+09  4.500000e+05      3.000000      2.250000   1910.000000   \n",
      "75%    7.308900e+09  6.450000e+05      4.000000      2.500000   2550.000000   \n",
      "max    9.900000e+09  7.700000e+06     11.000000      8.000000  13540.000000   \n",
      "\n",
      "           sqft_lot        floors    waterfront          view     condition  \\\n",
      "count  2.161300e+04  21613.000000  21613.000000  21613.000000  21613.000000   \n",
      "mean   1.510697e+04      1.494309      0.007542      0.234303      3.409430   \n",
      "std    4.142051e+04      0.539989      0.086517      0.766318      0.650743   \n",
      "min    5.200000e+02      1.000000      0.000000      0.000000      1.000000   \n",
      "25%    5.040000e+03      1.000000      0.000000      0.000000      3.000000   \n",
      "50%    7.618000e+03      1.500000      0.000000      0.000000      3.000000   \n",
      "75%    1.068800e+04      2.000000      0.000000      0.000000      4.000000   \n",
      "max    1.651359e+06      3.500000      1.000000      4.000000      5.000000   \n",
      "\n",
      "              grade    sqft_above  sqft_basement      yr_built  yr_renovated  \\\n",
      "count  21613.000000  21613.000000   21613.000000  21613.000000  21613.000000   \n",
      "mean       7.656873   1788.390691     291.509045   1971.005136     84.402258   \n",
      "std        1.175459    828.090978     442.575043     29.373411    401.679240   \n",
      "min        1.000000    290.000000       0.000000   1900.000000      0.000000   \n",
      "25%        7.000000   1190.000000       0.000000   1951.000000      0.000000   \n",
      "50%        7.000000   1560.000000       0.000000   1975.000000      0.000000   \n",
      "75%        8.000000   2210.000000     560.000000   1997.000000      0.000000   \n",
      "max       13.000000   9410.000000    4820.000000   2015.000000   2015.000000   \n",
      "\n",
      "            zipcode           lat          long  sqft_living15     sqft_lot15  \n",
      "count  21613.000000  21613.000000  21613.000000   21613.000000   21613.000000  \n",
      "mean   98077.939805     47.560053   -122.213896    1986.552492   12768.455652  \n",
      "std       53.505026      0.138564      0.140828     685.391304   27304.179631  \n",
      "min    98001.000000     47.155900   -122.519000     399.000000     651.000000  \n",
      "25%    98033.000000     47.471000   -122.328000    1490.000000    5100.000000  \n",
      "50%    98065.000000     47.571800   -122.230000    1840.000000    7620.000000  \n",
      "75%    98118.000000     47.678000   -122.125000    2360.000000   10083.000000  \n",
      "max    98199.000000     47.777600   -121.315000    6210.000000  871200.000000  \n"
     ]
    }
   ],
   "source": [
    "# calculate the limits for values that are not outliers. \n",
    "LimitHi = np.mean(KCH.loc[:, \"bedrooms\"]) + 10*np.std(KCH.loc[:, \"bedrooms\"])\n",
    "LimitLo = np.mean(KCH.loc[:, \"bedrooms\"]) - 10*np.std(KCH.loc[:, \"bedrooms\"])\n",
    "# Create Flag for values outside of limits\n",
    "FlagBad = (KCH.loc[:, \"bedrooms\"] < LimitLo) | (KCH.loc[:, \"bedrooms\"] > LimitHi)\n",
    "# Replace outlieres with mean of the whole array\n",
    "KCH.loc[FlagBad, \"bedrooms\"] = np.mean(KCH.loc[:, \"bedrooms\"])\n",
    "#\n",
    "print(KCH.describe())"
   ]
  },
  {
   "cell_type": "markdown",
   "metadata": {},
   "source": [
    "### Removing rows with house price higher than 1.5M dollars :"
   ]
  },
  {
   "cell_type": "code",
   "execution_count": 43,
   "metadata": {},
   "outputs": [
    {
     "name": "stdout",
     "output_type": "stream",
     "text": [
      "                 id         price      bedrooms     bathrooms   sqft_living  \\\n",
      "count  2.109700e+04  2.109700e+04  21097.000000  21097.000000  21097.000000   \n",
      "mean   4.592365e+09  5.012777e+05      3.348693      2.080391   2022.189174   \n",
      "std    2.878734e+09  2.482295e+05      0.897713      0.732479    824.830866   \n",
      "min    1.000102e+06  7.500000e+04      0.000000      0.000000    290.000000   \n",
      "25%    2.125059e+09  3.199500e+05      3.000000      1.500000   1410.000000   \n",
      "50%    3.905040e+09  4.450000e+05      3.000000      2.250000   1890.000000   \n",
      "75%    7.334501e+09  6.250000e+05      4.000000      2.500000   2500.000000   \n",
      "max    9.900000e+09  1.500000e+06     11.000000      7.500000   7480.000000   \n",
      "\n",
      "           sqft_lot        floors    waterfront          view     condition  \\\n",
      "count  2.109700e+04  21097.000000  21097.000000  21097.000000  21097.000000   \n",
      "mean   1.474278e+04      1.485306      0.003982      0.200076      3.406977   \n",
      "std    3.994771e+04      0.538147      0.062976      0.696247      0.648636   \n",
      "min    5.200000e+02      1.000000      0.000000      0.000000      1.000000   \n",
      "25%    5.001000e+03      1.000000      0.000000      0.000000      3.000000   \n",
      "50%    7.552000e+03      1.000000      0.000000      0.000000      3.000000   \n",
      "75%    1.045400e+04      2.000000      0.000000      0.000000      4.000000   \n",
      "max    1.651359e+06      3.500000      1.000000      4.000000      5.000000   \n",
      "\n",
      "              grade    sqft_above  sqft_basement      yr_built  yr_renovated  \\\n",
      "count  21097.000000  21097.000000   21097.000000  21097.000000  21097.000000   \n",
      "mean       7.591933   1743.537754     278.651420   1970.907333     79.080912   \n",
      "std        1.097968    762.211936     422.665321     29.280258    389.335194   \n",
      "min        1.000000    290.000000       0.000000   1900.000000      0.000000   \n",
      "25%        7.000000   1180.000000       0.000000   1951.000000      0.000000   \n",
      "50%        7.000000   1540.000000       0.000000   1975.000000      0.000000   \n",
      "75%        8.000000   2160.000000     540.000000   1996.000000      0.000000   \n",
      "max       12.000000   7320.000000    2850.000000   2015.000000   2015.000000   \n",
      "\n",
      "            zipcode           lat          long  sqft_living15     sqft_lot15  \n",
      "count  21097.000000  21097.000000  21097.000000   21097.000000   21097.000000  \n",
      "mean   98078.381429     47.558652   -122.213615    1954.009101   12555.540077  \n",
      "std       53.393371      0.139707      0.141723     648.304608   26522.455164  \n",
      "min    98001.000000     47.155900   -122.519000     399.000000     651.000000  \n",
      "25%    98033.000000     47.465900   -122.330000    1480.000000    5078.000000  \n",
      "50%    98065.000000     47.569400   -122.231000    1820.000000    7565.000000  \n",
      "75%    98118.000000     47.678900   -122.123000    2320.000000    9994.000000  \n",
      "max    98199.000000     47.777600   -121.315000    5790.000000  871200.000000  \n"
     ]
    }
   ],
   "source": [
    "# Create Flag for values outside of limits\n",
    "FlagGood = (KCH.loc[:, \"price\"] <= 1500000)\n",
    "# Removing house price higher than 1.5M dollars\n",
    "KCH=KCH.loc[FlagGood,:]\n",
    "#\n",
    "print(KCH.describe())"
   ]
  },
  {
   "cell_type": "markdown",
   "metadata": {},
   "source": [
    "### Correlations :"
   ]
  },
  {
   "cell_type": "code",
   "execution_count": 44,
   "metadata": {},
   "outputs": [
    {
     "data": {
      "text/html": [
       "<div>\n",
       "<style scoped>\n",
       "    .dataframe tbody tr th:only-of-type {\n",
       "        vertical-align: middle;\n",
       "    }\n",
       "\n",
       "    .dataframe tbody tr th {\n",
       "        vertical-align: top;\n",
       "    }\n",
       "\n",
       "    .dataframe thead th {\n",
       "        text-align: right;\n",
       "    }\n",
       "</style>\n",
       "<table border=\"1\" class=\"dataframe\">\n",
       "  <thead>\n",
       "    <tr style=\"text-align: right;\">\n",
       "      <th></th>\n",
       "      <th>price</th>\n",
       "      <th>bedrooms</th>\n",
       "      <th>bathrooms</th>\n",
       "      <th>sqft_living</th>\n",
       "      <th>floors</th>\n",
       "      <th>waterfront</th>\n",
       "      <th>view</th>\n",
       "      <th>condition</th>\n",
       "      <th>grade</th>\n",
       "      <th>sqft_above</th>\n",
       "      <th>sqft_basement</th>\n",
       "      <th>yr_renovated</th>\n",
       "      <th>lat</th>\n",
       "      <th>long</th>\n",
       "      <th>sqft_living15</th>\n",
       "      <th>sqft_lot15</th>\n",
       "      <th>yr_built</th>\n",
       "      <th>floors</th>\n",
       "    </tr>\n",
       "  </thead>\n",
       "  <tbody>\n",
       "    <tr>\n",
       "      <th>price</th>\n",
       "      <td>1.000000</td>\n",
       "      <td>0.317138</td>\n",
       "      <td>0.487236</td>\n",
       "      <td>0.656843</td>\n",
       "      <td>0.277934</td>\n",
       "      <td>0.085815</td>\n",
       "      <td>0.305028</td>\n",
       "      <td>0.034077</td>\n",
       "      <td>0.665694</td>\n",
       "      <td>0.559567</td>\n",
       "      <td>0.272735</td>\n",
       "      <td>0.102344</td>\n",
       "      <td>0.394319</td>\n",
       "      <td>0.049141</td>\n",
       "      <td>0.589665</td>\n",
       "      <td>0.080099</td>\n",
       "      <td>0.059861</td>\n",
       "      <td>0.277934</td>\n",
       "    </tr>\n",
       "    <tr>\n",
       "      <th>bedrooms</th>\n",
       "      <td>0.317138</td>\n",
       "      <td>1.000000</td>\n",
       "      <td>0.517130</td>\n",
       "      <td>0.598224</td>\n",
       "      <td>0.167925</td>\n",
       "      <td>-0.038813</td>\n",
       "      <td>0.053177</td>\n",
       "      <td>0.022783</td>\n",
       "      <td>0.346143</td>\n",
       "      <td>0.481542</td>\n",
       "      <td>0.299046</td>\n",
       "      <td>0.009091</td>\n",
       "      <td>-0.020671</td>\n",
       "      <td>0.139119</td>\n",
       "      <td>0.387765</td>\n",
       "      <td>0.025346</td>\n",
       "      <td>0.162984</td>\n",
       "      <td>0.167925</td>\n",
       "    </tr>\n",
       "    <tr>\n",
       "      <th>bathrooms</th>\n",
       "      <td>0.487236</td>\n",
       "      <td>0.517130</td>\n",
       "      <td>1.000000</td>\n",
       "      <td>0.730794</td>\n",
       "      <td>0.501425</td>\n",
       "      <td>0.002566</td>\n",
       "      <td>0.127123</td>\n",
       "      <td>-0.134489</td>\n",
       "      <td>0.634148</td>\n",
       "      <td>0.654041</td>\n",
       "      <td>0.246683</td>\n",
       "      <td>0.034602</td>\n",
       "      <td>0.006577</td>\n",
       "      <td>0.239390</td>\n",
       "      <td>0.544108</td>\n",
       "      <td>0.072831</td>\n",
       "      <td>0.529965</td>\n",
       "      <td>0.501425</td>\n",
       "    </tr>\n",
       "    <tr>\n",
       "      <th>sqft_living</th>\n",
       "      <td>0.656843</td>\n",
       "      <td>0.598224</td>\n",
       "      <td>0.730794</td>\n",
       "      <td>1.000000</td>\n",
       "      <td>0.347445</td>\n",
       "      <td>0.007618</td>\n",
       "      <td>0.210527</td>\n",
       "      <td>-0.071085</td>\n",
       "      <td>0.731842</td>\n",
       "      <td>0.861042</td>\n",
       "      <td>0.398742</td>\n",
       "      <td>0.030924</td>\n",
       "      <td>0.030787</td>\n",
       "      <td>0.271189</td>\n",
       "      <td>0.749199</td>\n",
       "      <td>0.175950</td>\n",
       "      <td>0.344672</td>\n",
       "      <td>0.347445</td>\n",
       "    </tr>\n",
       "    <tr>\n",
       "      <th>floors</th>\n",
       "      <td>0.277934</td>\n",
       "      <td>0.167925</td>\n",
       "      <td>0.501425</td>\n",
       "      <td>0.347445</td>\n",
       "      <td>1.000000</td>\n",
       "      <td>-0.000372</td>\n",
       "      <td>0.001268</td>\n",
       "      <td>-0.271169</td>\n",
       "      <td>0.455838</td>\n",
       "      <td>0.528158</td>\n",
       "      <td>-0.274413</td>\n",
       "      <td>0.001778</td>\n",
       "      <td>0.043350</td>\n",
       "      <td>0.130153</td>\n",
       "      <td>0.270907</td>\n",
       "      <td>-0.019211</td>\n",
       "      <td>0.499833</td>\n",
       "      <td>1.000000</td>\n",
       "    </tr>\n",
       "    <tr>\n",
       "      <th>waterfront</th>\n",
       "      <td>0.085815</td>\n",
       "      <td>-0.038813</td>\n",
       "      <td>0.002566</td>\n",
       "      <td>0.007618</td>\n",
       "      <td>-0.000372</td>\n",
       "      <td>1.000000</td>\n",
       "      <td>0.313727</td>\n",
       "      <td>0.014870</td>\n",
       "      <td>-0.000495</td>\n",
       "      <td>-0.003658</td>\n",
       "      <td>0.021463</td>\n",
       "      <td>0.087042</td>\n",
       "      <td>-0.039149</td>\n",
       "      <td>-0.059126</td>\n",
       "      <td>0.018083</td>\n",
       "      <td>0.032473</td>\n",
       "      <td>-0.041368</td>\n",
       "      <td>-0.000372</td>\n",
       "    </tr>\n",
       "    <tr>\n",
       "      <th>view</th>\n",
       "      <td>0.305028</td>\n",
       "      <td>0.053177</td>\n",
       "      <td>0.127123</td>\n",
       "      <td>0.210527</td>\n",
       "      <td>0.001268</td>\n",
       "      <td>0.313727</td>\n",
       "      <td>1.000000</td>\n",
       "      <td>0.034758</td>\n",
       "      <td>0.181029</td>\n",
       "      <td>0.098617</td>\n",
       "      <td>0.233003</td>\n",
       "      <td>0.085989</td>\n",
       "      <td>-0.012713</td>\n",
       "      <td>-0.079981</td>\n",
       "      <td>0.225063</td>\n",
       "      <td>0.067707</td>\n",
       "      <td>-0.062422</td>\n",
       "      <td>0.001268</td>\n",
       "    </tr>\n",
       "    <tr>\n",
       "      <th>condition</th>\n",
       "      <td>0.034077</td>\n",
       "      <td>0.022783</td>\n",
       "      <td>-0.134489</td>\n",
       "      <td>-0.071085</td>\n",
       "      <td>-0.271169</td>\n",
       "      <td>0.014870</td>\n",
       "      <td>0.034758</td>\n",
       "      <td>1.000000</td>\n",
       "      <td>-0.161429</td>\n",
       "      <td>-0.173473</td>\n",
       "      <td>0.174109</td>\n",
       "      <td>-0.061610</td>\n",
       "      <td>-0.017298</td>\n",
       "      <td>-0.103739</td>\n",
       "      <td>-0.110954</td>\n",
       "      <td>-0.000712</td>\n",
       "      <td>-0.357226</td>\n",
       "      <td>-0.271169</td>\n",
       "    </tr>\n",
       "    <tr>\n",
       "      <th>grade</th>\n",
       "      <td>0.665694</td>\n",
       "      <td>0.346143</td>\n",
       "      <td>0.634148</td>\n",
       "      <td>0.731842</td>\n",
       "      <td>0.455838</td>\n",
       "      <td>-0.000495</td>\n",
       "      <td>0.181029</td>\n",
       "      <td>-0.161429</td>\n",
       "      <td>1.000000</td>\n",
       "      <td>0.728532</td>\n",
       "      <td>0.114392</td>\n",
       "      <td>-0.008192</td>\n",
       "      <td>0.100228</td>\n",
       "      <td>0.217643</td>\n",
       "      <td>0.691908</td>\n",
       "      <td>0.106573</td>\n",
       "      <td>0.472825</td>\n",
       "      <td>0.455838</td>\n",
       "    </tr>\n",
       "    <tr>\n",
       "      <th>sqft_above</th>\n",
       "      <td>0.559567</td>\n",
       "      <td>0.481542</td>\n",
       "      <td>0.654041</td>\n",
       "      <td>0.861042</td>\n",
       "      <td>0.528158</td>\n",
       "      <td>-0.003658</td>\n",
       "      <td>0.098617</td>\n",
       "      <td>-0.173473</td>\n",
       "      <td>0.728532</td>\n",
       "      <td>1.000000</td>\n",
       "      <td>-0.123024</td>\n",
       "      <td>0.003722</td>\n",
       "      <td>-0.024959</td>\n",
       "      <td>0.376281</td>\n",
       "      <td>0.725902</td>\n",
       "      <td>0.181078</td>\n",
       "      <td>0.450904</td>\n",
       "      <td>0.528158</td>\n",
       "    </tr>\n",
       "    <tr>\n",
       "      <th>sqft_basement</th>\n",
       "      <td>0.272735</td>\n",
       "      <td>0.299046</td>\n",
       "      <td>0.246683</td>\n",
       "      <td>0.398742</td>\n",
       "      <td>-0.274413</td>\n",
       "      <td>0.021463</td>\n",
       "      <td>0.233003</td>\n",
       "      <td>0.174109</td>\n",
       "      <td>0.114392</td>\n",
       "      <td>-0.123024</td>\n",
       "      <td>1.000000</td>\n",
       "      <td>0.053637</td>\n",
       "      <td>0.105091</td>\n",
       "      <td>-0.149341</td>\n",
       "      <td>0.153009</td>\n",
       "      <td>0.016819</td>\n",
       "      <td>-0.140510</td>\n",
       "      <td>-0.274413</td>\n",
       "    </tr>\n",
       "    <tr>\n",
       "      <th>yr_renovated</th>\n",
       "      <td>0.102344</td>\n",
       "      <td>0.009091</td>\n",
       "      <td>0.034602</td>\n",
       "      <td>0.030924</td>\n",
       "      <td>0.001778</td>\n",
       "      <td>0.087042</td>\n",
       "      <td>0.085989</td>\n",
       "      <td>-0.061610</td>\n",
       "      <td>-0.008192</td>\n",
       "      <td>0.003722</td>\n",
       "      <td>0.053637</td>\n",
       "      <td>1.000000</td>\n",
       "      <td>0.025054</td>\n",
       "      <td>-0.066847</td>\n",
       "      <td>-0.030407</td>\n",
       "      <td>0.007678</td>\n",
       "      <td>-0.221795</td>\n",
       "      <td>0.001778</td>\n",
       "    </tr>\n",
       "    <tr>\n",
       "      <th>lat</th>\n",
       "      <td>0.394319</td>\n",
       "      <td>-0.020671</td>\n",
       "      <td>0.006577</td>\n",
       "      <td>0.030787</td>\n",
       "      <td>0.043350</td>\n",
       "      <td>-0.039149</td>\n",
       "      <td>-0.012713</td>\n",
       "      <td>-0.017298</td>\n",
       "      <td>0.100228</td>\n",
       "      <td>-0.024959</td>\n",
       "      <td>0.105091</td>\n",
       "      <td>0.025054</td>\n",
       "      <td>1.000000</td>\n",
       "      <td>-0.134242</td>\n",
       "      <td>0.033542</td>\n",
       "      <td>-0.093517</td>\n",
       "      <td>-0.151079</td>\n",
       "      <td>0.043350</td>\n",
       "    </tr>\n",
       "    <tr>\n",
       "      <th>long</th>\n",
       "      <td>0.049141</td>\n",
       "      <td>0.139119</td>\n",
       "      <td>0.239390</td>\n",
       "      <td>0.271189</td>\n",
       "      <td>0.130153</td>\n",
       "      <td>-0.059126</td>\n",
       "      <td>-0.079981</td>\n",
       "      <td>-0.103739</td>\n",
       "      <td>0.217643</td>\n",
       "      <td>0.376281</td>\n",
       "      <td>-0.149341</td>\n",
       "      <td>-0.066847</td>\n",
       "      <td>-0.134242</td>\n",
       "      <td>1.000000</td>\n",
       "      <td>0.359411</td>\n",
       "      <td>0.253119</td>\n",
       "      <td>0.410432</td>\n",
       "      <td>0.130153</td>\n",
       "    </tr>\n",
       "    <tr>\n",
       "      <th>sqft_living15</th>\n",
       "      <td>0.589665</td>\n",
       "      <td>0.387765</td>\n",
       "      <td>0.544108</td>\n",
       "      <td>0.749199</td>\n",
       "      <td>0.270907</td>\n",
       "      <td>0.018083</td>\n",
       "      <td>0.225063</td>\n",
       "      <td>-0.110954</td>\n",
       "      <td>0.691908</td>\n",
       "      <td>0.725902</td>\n",
       "      <td>0.153009</td>\n",
       "      <td>-0.030407</td>\n",
       "      <td>0.033542</td>\n",
       "      <td>0.359411</td>\n",
       "      <td>1.000000</td>\n",
       "      <td>0.183536</td>\n",
       "      <td>0.347694</td>\n",
       "      <td>0.270907</td>\n",
       "    </tr>\n",
       "    <tr>\n",
       "      <th>sqft_lot15</th>\n",
       "      <td>0.080099</td>\n",
       "      <td>0.025346</td>\n",
       "      <td>0.072831</td>\n",
       "      <td>0.175950</td>\n",
       "      <td>-0.019211</td>\n",
       "      <td>0.032473</td>\n",
       "      <td>0.067707</td>\n",
       "      <td>-0.000712</td>\n",
       "      <td>0.106573</td>\n",
       "      <td>0.181078</td>\n",
       "      <td>0.016819</td>\n",
       "      <td>0.007678</td>\n",
       "      <td>-0.093517</td>\n",
       "      <td>0.253119</td>\n",
       "      <td>0.183536</td>\n",
       "      <td>1.000000</td>\n",
       "      <td>0.067198</td>\n",
       "      <td>-0.019211</td>\n",
       "    </tr>\n",
       "    <tr>\n",
       "      <th>yr_built</th>\n",
       "      <td>0.059861</td>\n",
       "      <td>0.162984</td>\n",
       "      <td>0.529965</td>\n",
       "      <td>0.344672</td>\n",
       "      <td>0.499833</td>\n",
       "      <td>-0.041368</td>\n",
       "      <td>-0.062422</td>\n",
       "      <td>-0.357226</td>\n",
       "      <td>0.472825</td>\n",
       "      <td>0.450904</td>\n",
       "      <td>-0.140510</td>\n",
       "      <td>-0.221795</td>\n",
       "      <td>-0.151079</td>\n",
       "      <td>0.410432</td>\n",
       "      <td>0.347694</td>\n",
       "      <td>0.067198</td>\n",
       "      <td>1.000000</td>\n",
       "      <td>0.499833</td>\n",
       "    </tr>\n",
       "    <tr>\n",
       "      <th>floors</th>\n",
       "      <td>0.277934</td>\n",
       "      <td>0.167925</td>\n",
       "      <td>0.501425</td>\n",
       "      <td>0.347445</td>\n",
       "      <td>1.000000</td>\n",
       "      <td>-0.000372</td>\n",
       "      <td>0.001268</td>\n",
       "      <td>-0.271169</td>\n",
       "      <td>0.455838</td>\n",
       "      <td>0.528158</td>\n",
       "      <td>-0.274413</td>\n",
       "      <td>0.001778</td>\n",
       "      <td>0.043350</td>\n",
       "      <td>0.130153</td>\n",
       "      <td>0.270907</td>\n",
       "      <td>-0.019211</td>\n",
       "      <td>0.499833</td>\n",
       "      <td>1.000000</td>\n",
       "    </tr>\n",
       "  </tbody>\n",
       "</table>\n",
       "</div>"
      ],
      "text/plain": [
       "                  price  bedrooms  bathrooms  sqft_living    floors  \\\n",
       "price          1.000000  0.317138   0.487236     0.656843  0.277934   \n",
       "bedrooms       0.317138  1.000000   0.517130     0.598224  0.167925   \n",
       "bathrooms      0.487236  0.517130   1.000000     0.730794  0.501425   \n",
       "sqft_living    0.656843  0.598224   0.730794     1.000000  0.347445   \n",
       "floors         0.277934  0.167925   0.501425     0.347445  1.000000   \n",
       "waterfront     0.085815 -0.038813   0.002566     0.007618 -0.000372   \n",
       "view           0.305028  0.053177   0.127123     0.210527  0.001268   \n",
       "condition      0.034077  0.022783  -0.134489    -0.071085 -0.271169   \n",
       "grade          0.665694  0.346143   0.634148     0.731842  0.455838   \n",
       "sqft_above     0.559567  0.481542   0.654041     0.861042  0.528158   \n",
       "sqft_basement  0.272735  0.299046   0.246683     0.398742 -0.274413   \n",
       "yr_renovated   0.102344  0.009091   0.034602     0.030924  0.001778   \n",
       "lat            0.394319 -0.020671   0.006577     0.030787  0.043350   \n",
       "long           0.049141  0.139119   0.239390     0.271189  0.130153   \n",
       "sqft_living15  0.589665  0.387765   0.544108     0.749199  0.270907   \n",
       "sqft_lot15     0.080099  0.025346   0.072831     0.175950 -0.019211   \n",
       "yr_built       0.059861  0.162984   0.529965     0.344672  0.499833   \n",
       "floors         0.277934  0.167925   0.501425     0.347445  1.000000   \n",
       "\n",
       "               waterfront      view  condition     grade  sqft_above  \\\n",
       "price            0.085815  0.305028   0.034077  0.665694    0.559567   \n",
       "bedrooms        -0.038813  0.053177   0.022783  0.346143    0.481542   \n",
       "bathrooms        0.002566  0.127123  -0.134489  0.634148    0.654041   \n",
       "sqft_living      0.007618  0.210527  -0.071085  0.731842    0.861042   \n",
       "floors          -0.000372  0.001268  -0.271169  0.455838    0.528158   \n",
       "waterfront       1.000000  0.313727   0.014870 -0.000495   -0.003658   \n",
       "view             0.313727  1.000000   0.034758  0.181029    0.098617   \n",
       "condition        0.014870  0.034758   1.000000 -0.161429   -0.173473   \n",
       "grade           -0.000495  0.181029  -0.161429  1.000000    0.728532   \n",
       "sqft_above      -0.003658  0.098617  -0.173473  0.728532    1.000000   \n",
       "sqft_basement    0.021463  0.233003   0.174109  0.114392   -0.123024   \n",
       "yr_renovated     0.087042  0.085989  -0.061610 -0.008192    0.003722   \n",
       "lat             -0.039149 -0.012713  -0.017298  0.100228   -0.024959   \n",
       "long            -0.059126 -0.079981  -0.103739  0.217643    0.376281   \n",
       "sqft_living15    0.018083  0.225063  -0.110954  0.691908    0.725902   \n",
       "sqft_lot15       0.032473  0.067707  -0.000712  0.106573    0.181078   \n",
       "yr_built        -0.041368 -0.062422  -0.357226  0.472825    0.450904   \n",
       "floors          -0.000372  0.001268  -0.271169  0.455838    0.528158   \n",
       "\n",
       "               sqft_basement  yr_renovated       lat      long  sqft_living15  \\\n",
       "price               0.272735      0.102344  0.394319  0.049141       0.589665   \n",
       "bedrooms            0.299046      0.009091 -0.020671  0.139119       0.387765   \n",
       "bathrooms           0.246683      0.034602  0.006577  0.239390       0.544108   \n",
       "sqft_living         0.398742      0.030924  0.030787  0.271189       0.749199   \n",
       "floors             -0.274413      0.001778  0.043350  0.130153       0.270907   \n",
       "waterfront          0.021463      0.087042 -0.039149 -0.059126       0.018083   \n",
       "view                0.233003      0.085989 -0.012713 -0.079981       0.225063   \n",
       "condition           0.174109     -0.061610 -0.017298 -0.103739      -0.110954   \n",
       "grade               0.114392     -0.008192  0.100228  0.217643       0.691908   \n",
       "sqft_above         -0.123024      0.003722 -0.024959  0.376281       0.725902   \n",
       "sqft_basement       1.000000      0.053637  0.105091 -0.149341       0.153009   \n",
       "yr_renovated        0.053637      1.000000  0.025054 -0.066847      -0.030407   \n",
       "lat                 0.105091      0.025054  1.000000 -0.134242       0.033542   \n",
       "long               -0.149341     -0.066847 -0.134242  1.000000       0.359411   \n",
       "sqft_living15       0.153009     -0.030407  0.033542  0.359411       1.000000   \n",
       "sqft_lot15          0.016819      0.007678 -0.093517  0.253119       0.183536   \n",
       "yr_built           -0.140510     -0.221795 -0.151079  0.410432       0.347694   \n",
       "floors             -0.274413      0.001778  0.043350  0.130153       0.270907   \n",
       "\n",
       "               sqft_lot15  yr_built    floors  \n",
       "price            0.080099  0.059861  0.277934  \n",
       "bedrooms         0.025346  0.162984  0.167925  \n",
       "bathrooms        0.072831  0.529965  0.501425  \n",
       "sqft_living      0.175950  0.344672  0.347445  \n",
       "floors          -0.019211  0.499833  1.000000  \n",
       "waterfront       0.032473 -0.041368 -0.000372  \n",
       "view             0.067707 -0.062422  0.001268  \n",
       "condition       -0.000712 -0.357226 -0.271169  \n",
       "grade            0.106573  0.472825  0.455838  \n",
       "sqft_above       0.181078  0.450904  0.528158  \n",
       "sqft_basement    0.016819 -0.140510 -0.274413  \n",
       "yr_renovated     0.007678 -0.221795  0.001778  \n",
       "lat             -0.093517 -0.151079  0.043350  \n",
       "long             0.253119  0.410432  0.130153  \n",
       "sqft_living15    0.183536  0.347694  0.270907  \n",
       "sqft_lot15       1.000000  0.067198 -0.019211  \n",
       "yr_built         0.067198  1.000000  0.499833  \n",
       "floors          -0.019211  0.499833  1.000000  "
      ]
     },
     "execution_count": 44,
     "metadata": {},
     "output_type": "execute_result"
    }
   ],
   "source": [
    "#\n",
    "Correlation1=KCH[['price','bedrooms','bathrooms','sqft_living','floors','waterfront','view','condition','grade','sqft_above'\n",
    "                  ,'sqft_basement','yr_renovated','lat','long','sqft_living15','sqft_lot15','yr_built', 'floors']].corr()\n",
    "Correlation1"
   ]
  },
  {
   "cell_type": "code",
   "execution_count": 45,
   "metadata": {
    "scrolled": false
   },
   "outputs": [
    {
     "data": {
      "text/plain": [
       "(array([ 0.5,  1.5,  2.5,  3.5,  4.5,  5.5,  6.5,  7.5,  8.5,  9.5, 10.5,\n",
       "        11.5, 12.5, 13.5, 14.5, 15.5, 16.5, 17.5]),\n",
       " <a list of 18 Text xticklabel objects>)"
      ]
     },
     "execution_count": 45,
     "metadata": {},
     "output_type": "execute_result"
    },
    {
     "data": {
      "image/png": "[encoded data removed]",
      "text/plain": [
       "<Figure size 432x288 with 2 Axes>"
      ]
     },
     "metadata": {},
     "output_type": "display_data"
    }
   ],
   "source": [
    "sns.heatmap(Correlation1, vmax=1.0, center=0, vmin=-1.0,\n",
    "            square=True, linewidths=.25, cbar_kws={\"shrink\": .5})\n",
    "plt.title('Correlation matrix for numeric features')\n",
    "plt.yticks(rotation='horizontal')\n",
    "plt.xticks(rotation='vertical')"
   ]
  },
  {
   "cell_type": "markdown",
   "metadata": {},
   "source": [
    "## Note:\n",
    "- Based on the cross-correlations analyzed above, it indicates that some features are highly dependent to each other.\n",
    "- In the later part of this code, this will be taken care of by PCA/SVD modeling tools."
   ]
  },
  {
   "cell_type": "code",
   "execution_count": 46,
   "metadata": {},
   "outputs": [
    {
     "data": {
      "text/plain": [
       "Text(0,0.5,'price')"
      ]
     },
     "execution_count": 46,
     "metadata": {},
     "output_type": "execute_result"
    },
    {
     "data": {
      "image/png": "[encoded data removed]",
      "text/plain": [
       "<Figure size 432x432 with 1 Axes>"
      ]
     },
     "metadata": {},
     "output_type": "display_data"
    }
   ],
   "source": [
    "%matplotlib inline\n",
    "fig = plt.figure(figsize=(6, 6)) # define plot area\n",
    "ax = fig.gca() # define axis \n",
    "KCH.loc[:,['price', 'floors']].boxplot(by = 'floors', ax = ax)\n",
    "ax.set_title('Box plot of price') # Give the plot a main title\n",
    "ax.set_ylabel('price')# Set text for y axis\n",
    "#ax.set_ylim(0.0, 50.0) # Set the limits of the y axis"
   ]
  },
  {
   "cell_type": "code",
   "execution_count": 47,
   "metadata": {
    "scrolled": true
   },
   "outputs": [
    {
     "data": {
      "text/plain": [
       "Text(0,0.5,'price')"
      ]
     },
     "execution_count": 47,
     "metadata": {},
     "output_type": "execute_result"
    },
    {
     "data": {
      "image/png": "[encoded data removed]",
      "text/plain": [
       "<Figure size 432x432 with 1 Axes>"
      ]
     },
     "metadata": {},
     "output_type": "display_data"
    }
   ],
   "source": [
    "%matplotlib inline\n",
    "fig = plt.figure(figsize=(6, 6)) # define plot area\n",
    "ax = fig.gca() # define axis \n",
    "KCH.loc[:,['price', 'condition']].boxplot(by = 'condition', ax = ax)\n",
    "ax.set_title('Box plot of price') # Give the plot a main title\n",
    "ax.set_ylabel('price')# Set text for y axis\n",
    "#ax.set_ylim(0.0, 50.0) # Set the limits of the y axis"
   ]
  },
  {
   "cell_type": "code",
   "execution_count": 48,
   "metadata": {},
   "outputs": [
    {
     "data": {
      "text/plain": [
       "Text(0,0.5,'price')"
      ]
     },
     "execution_count": 48,
     "metadata": {},
     "output_type": "execute_result"
    },
    {
     "data": {
      "image/png": "[encoded data removed]",
      "text/plain": [
       "<Figure size 432x432 with 1 Axes>"
      ]
     },
     "metadata": {},
     "output_type": "display_data"
    }
   ],
   "source": [
    "%matplotlib inline\n",
    "fig = plt.figure(figsize=(6, 6)) # define plot area\n",
    "ax = fig.gca() # define axis \n",
    "KCH.loc[:,['price', 'waterfront']].boxplot(by = 'waterfront', ax = ax)\n",
    "ax.set_title('Box plot of price') # Give the plot a main title\n",
    "ax.set_ylabel('price')# Set text for y axis\n",
    "#ax.set_ylim(0.0, 50.0) # Set the limits of the y axis"
   ]
  },
  {
   "cell_type": "code",
   "execution_count": 49,
   "metadata": {},
   "outputs": [
    {
     "data": {
      "text/plain": [
       "Text(0,0.5,'price')"
      ]
     },
     "execution_count": 49,
     "metadata": {},
     "output_type": "execute_result"
    },
    {
     "data": {
      "image/png": "[encoded data removed]",
      "text/plain": [
       "<Figure size 432x432 with 1 Axes>"
      ]
     },
     "metadata": {},
     "output_type": "display_data"
    }
   ],
   "source": [
    "%matplotlib inline\n",
    "fig = plt.figure(figsize=(6, 6)) # define plot area\n",
    "ax = fig.gca() # define axis \n",
    "KCH.loc[:,['price', 'view']].boxplot(by = 'view', ax = ax)\n",
    "ax.set_title('Box plot of price') # Give the plot a main title\n",
    "ax.set_ylabel('price')# Set text for y axis\n",
    "#ax.set_ylim(0.0, 50.0) # Set the limits of the y axis"
   ]
  },
  {
   "cell_type": "code",
   "execution_count": 50,
   "metadata": {
    "scrolled": false
   },
   "outputs": [
    {
     "data": {
      "text/plain": [
       "Text(0,0.5,'price')"
      ]
     },
     "execution_count": 50,
     "metadata": {},
     "output_type": "execute_result"
    },
    {
     "data": {
      "image/png": "[encoded data removed]",
      "text/plain": [
       "<Figure size 432x432 with 1 Axes>"
      ]
     },
     "metadata": {},
     "output_type": "display_data"
    }
   ],
   "source": [
    "%matplotlib inline\n",
    "fig = plt.figure(figsize=(6, 6)) # define plot area\n",
    "ax = fig.gca() # define axis \n",
    "KCH.loc[:,['price', 'bedrooms']].boxplot(by = 'bedrooms', ax = ax)\n",
    "ax.set_title('Box plot of price') # Give the plot a main title\n",
    "ax.set_ylabel('price')# Set text for y axis\n",
    "#ax.set_ylim(0.0, 50.0) # Set the limits of the y axis"
   ]
  },
  {
   "cell_type": "markdown",
   "metadata": {},
   "source": [
    "# ANALYSIS PART 1 - INITIAL EXPLORATION OF DATA SET - END"
   ]
  },
  {
   "cell_type": "markdown",
   "metadata": {},
   "source": [
    "# -------------------------------------------------------------------------------------------\n",
    "# -------------------------------------------------------------------------------------------"
   ]
  },
  {
   "cell_type": "markdown",
   "metadata": {},
   "source": [
    "# ANALYSIS PART 2 - REGRESSION MODEL - START"
   ]
  },
  {
   "cell_type": "code",
   "execution_count": 51,
   "metadata": {
    "scrolled": false
   },
   "outputs": [
    {
     "data": {
      "text/html": [
       "<div>\n",
       "<style scoped>\n",
       "    .dataframe tbody tr th:only-of-type {\n",
       "        vertical-align: middle;\n",
       "    }\n",
       "\n",
       "    .dataframe tbody tr th {\n",
       "        vertical-align: top;\n",
       "    }\n",
       "\n",
       "    .dataframe thead th {\n",
       "        text-align: right;\n",
       "    }\n",
       "</style>\n",
       "<table border=\"1\" class=\"dataframe\">\n",
       "  <thead>\n",
       "    <tr style=\"text-align: right;\">\n",
       "      <th></th>\n",
       "      <th>id</th>\n",
       "      <th>date</th>\n",
       "      <th>price</th>\n",
       "      <th>bedrooms</th>\n",
       "      <th>bathrooms</th>\n",
       "      <th>sqft_living</th>\n",
       "      <th>sqft_lot</th>\n",
       "      <th>floors</th>\n",
       "      <th>waterfront</th>\n",
       "      <th>view</th>\n",
       "      <th>...</th>\n",
       "      <th>sqft_living15</th>\n",
       "      <th>sqft_lot15</th>\n",
       "      <th>price_scale</th>\n",
       "      <th>bedrooms_scale</th>\n",
       "      <th>bathrooms_scale</th>\n",
       "      <th>sqft_living_scale</th>\n",
       "      <th>floors_scale</th>\n",
       "      <th>sqft_above_scale</th>\n",
       "      <th>sqft_basement_scale</th>\n",
       "      <th>yr_built_scale</th>\n",
       "    </tr>\n",
       "  </thead>\n",
       "  <tbody>\n",
       "    <tr>\n",
       "      <th>0</th>\n",
       "      <td>7129300520</td>\n",
       "      <td>20141013T000000</td>\n",
       "      <td>221900.0</td>\n",
       "      <td>3.0</td>\n",
       "      <td>1.00</td>\n",
       "      <td>1180</td>\n",
       "      <td>5650</td>\n",
       "      <td>1.0</td>\n",
       "      <td>0</td>\n",
       "      <td>0</td>\n",
       "      <td>...</td>\n",
       "      <td>1340</td>\n",
       "      <td>5650</td>\n",
       "      <td>-1.125508</td>\n",
       "      <td>-0.388433</td>\n",
       "      <td>-1.475014</td>\n",
       "      <td>-1.021069</td>\n",
       "      <td>-0.901831</td>\n",
       "      <td>-0.739363</td>\n",
       "      <td>-0.659288</td>\n",
       "      <td>-0.543291</td>\n",
       "    </tr>\n",
       "    <tr>\n",
       "      <th>1</th>\n",
       "      <td>6414100192</td>\n",
       "      <td>20141209T000000</td>\n",
       "      <td>538000.0</td>\n",
       "      <td>3.0</td>\n",
       "      <td>2.25</td>\n",
       "      <td>2570</td>\n",
       "      <td>7242</td>\n",
       "      <td>2.0</td>\n",
       "      <td>0</td>\n",
       "      <td>0</td>\n",
       "      <td>...</td>\n",
       "      <td>1690</td>\n",
       "      <td>7639</td>\n",
       "      <td>0.147940</td>\n",
       "      <td>-0.388433</td>\n",
       "      <td>0.231561</td>\n",
       "      <td>0.664165</td>\n",
       "      <td>0.956442</td>\n",
       "      <td>0.559519</td>\n",
       "      <td>0.287110</td>\n",
       "      <td>-0.679905</td>\n",
       "    </tr>\n",
       "    <tr>\n",
       "      <th>2</th>\n",
       "      <td>5631500400</td>\n",
       "      <td>20150225T000000</td>\n",
       "      <td>180000.0</td>\n",
       "      <td>2.0</td>\n",
       "      <td>1.00</td>\n",
       "      <td>770</td>\n",
       "      <td>10000</td>\n",
       "      <td>1.0</td>\n",
       "      <td>0</td>\n",
       "      <td>0</td>\n",
       "      <td>...</td>\n",
       "      <td>2720</td>\n",
       "      <td>8062</td>\n",
       "      <td>-1.294308</td>\n",
       "      <td>-1.502401</td>\n",
       "      <td>-1.475014</td>\n",
       "      <td>-1.518152</td>\n",
       "      <td>-0.901831</td>\n",
       "      <td>-1.277284</td>\n",
       "      <td>-0.659288</td>\n",
       "      <td>-1.294669</td>\n",
       "    </tr>\n",
       "    <tr>\n",
       "      <th>3</th>\n",
       "      <td>2487200875</td>\n",
       "      <td>20141209T000000</td>\n",
       "      <td>604000.0</td>\n",
       "      <td>4.0</td>\n",
       "      <td>3.00</td>\n",
       "      <td>1960</td>\n",
       "      <td>5000</td>\n",
       "      <td>1.0</td>\n",
       "      <td>0</td>\n",
       "      <td>0</td>\n",
       "      <td>...</td>\n",
       "      <td>1360</td>\n",
       "      <td>5000</td>\n",
       "      <td>0.413830</td>\n",
       "      <td>0.725536</td>\n",
       "      <td>1.255506</td>\n",
       "      <td>-0.075398</td>\n",
       "      <td>-0.901831</td>\n",
       "      <td>-0.909923</td>\n",
       "      <td>1.493767</td>\n",
       "      <td>-0.201756</td>\n",
       "    </tr>\n",
       "    <tr>\n",
       "      <th>4</th>\n",
       "      <td>1954400510</td>\n",
       "      <td>20150218T000000</td>\n",
       "      <td>510000.0</td>\n",
       "      <td>3.0</td>\n",
       "      <td>2.00</td>\n",
       "      <td>1680</td>\n",
       "      <td>8080</td>\n",
       "      <td>1.0</td>\n",
       "      <td>0</td>\n",
       "      <td>0</td>\n",
       "      <td>...</td>\n",
       "      <td>1800</td>\n",
       "      <td>7503</td>\n",
       "      <td>0.035139</td>\n",
       "      <td>-0.388433</td>\n",
       "      <td>-0.109754</td>\n",
       "      <td>-0.414870</td>\n",
       "      <td>-0.901831</td>\n",
       "      <td>-0.083362</td>\n",
       "      <td>-0.659288</td>\n",
       "      <td>0.549621</td>\n",
       "    </tr>\n",
       "  </tbody>\n",
       "</table>\n",
       "<p>5 rows × 29 columns</p>\n",
       "</div>"
      ],
      "text/plain": [
       "           id             date     price  bedrooms  bathrooms  sqft_living  \\\n",
       "0  7129300520  20141013T000000  221900.0       3.0       1.00         1180   \n",
       "1  6414100192  20141209T000000  538000.0       3.0       2.25         2570   \n",
       "2  5631500400  20150225T000000  180000.0       2.0       1.00          770   \n",
       "3  2487200875  20141209T000000  604000.0       4.0       3.00         1960   \n",
       "4  1954400510  20150218T000000  510000.0       3.0       2.00         1680   \n",
       "\n",
       "   sqft_lot  floors  waterfront  view       ...        sqft_living15  \\\n",
       "0      5650     1.0           0     0       ...                 1340   \n",
       "1      7242     2.0           0     0       ...                 1690   \n",
       "2     10000     1.0           0     0       ...                 2720   \n",
       "3      5000     1.0           0     0       ...                 1360   \n",
       "4      8080     1.0           0     0       ...                 1800   \n",
       "\n",
       "   sqft_lot15  price_scale  bedrooms_scale  bathrooms_scale  \\\n",
       "0        5650    -1.125508       -0.388433        -1.475014   \n",
       "1        7639     0.147940       -0.388433         0.231561   \n",
       "2        8062    -1.294308       -1.502401        -1.475014   \n",
       "3        5000     0.413830        0.725536         1.255506   \n",
       "4        7503     0.035139       -0.388433        -0.109754   \n",
       "\n",
       "   sqft_living_scale  floors_scale  sqft_above_scale  sqft_basement_scale  \\\n",
       "0          -1.021069     -0.901831         -0.739363            -0.659288   \n",
       "1           0.664165      0.956442          0.559519             0.287110   \n",
       "2          -1.518152     -0.901831         -1.277284            -0.659288   \n",
       "3          -0.075398     -0.901831         -0.909923             1.493767   \n",
       "4          -0.414870     -0.901831         -0.083362            -0.659288   \n",
       "\n",
       "   yr_built_scale  \n",
       "0       -0.543291  \n",
       "1       -0.679905  \n",
       "2       -1.294669  \n",
       "3       -0.201756  \n",
       "4        0.549621  \n",
       "\n",
       "[5 rows x 29 columns]"
      ]
     },
     "execution_count": 51,
     "metadata": {},
     "output_type": "execute_result"
    }
   ],
   "source": [
    "# Add scaled x to data frame\n",
    "# Scaling the label (dependent variable)\n",
    "KCH['price_scale'] = scale(KCH['price'])\n",
    "# Scaling the feature (independent variables)\n",
    "KCH['bedrooms_scale'] = scale(KCH['bedrooms'])\n",
    "KCH['bathrooms_scale'] = scale(KCH['bathrooms'])\n",
    "KCH['bedrooms_scale'] = scale(KCH['bedrooms'])\n",
    "KCH['sqft_living_scale'] = scale(KCH['sqft_living'])\n",
    "KCH['floors_scale'] = scale(KCH['floors'])\n",
    "KCH['sqft_above_scale'] = scale(KCH['sqft_above'])\n",
    "KCH['sqft_basement_scale'] = scale(KCH['sqft_basement'])\n",
    "KCH['yr_built_scale'] = scale(KCH['yr_built'])\n",
    "#\n",
    "KCH.head()"
   ]
  },
  {
   "cell_type": "code",
   "execution_count": 52,
   "metadata": {},
   "outputs": [],
   "source": [
    "y_output = KCH['price_scale']"
   ]
  },
  {
   "cell_type": "markdown",
   "metadata": {},
   "source": [
    "## Model1 - Single Feature (sqft_living) for Single Label :"
   ]
  },
  {
   "cell_type": "code",
   "execution_count": 53,
   "metadata": {
    "scrolled": false
   },
   "outputs": [
    {
     "name": "stdout",
     "output_type": "stream",
     "text": [
      "Scaled: Intercept, Slope : Intercept            7.112366e-17\n",
      "sqft_living_scale    6.568426e-01\n",
      "dtype: float64\n",
      "Scaled: Intercept t-value, Slope t-value: Intercept            1.369987e-14\n",
      "sqft_living_scale    1.265213e+02\n",
      "dtype: float64\n",
      "\n",
      "Hypothesis test summary for each coefficient if they differ from zero:\n",
      "Slope:\n",
      "                             Test for Constraints                             \n",
      "==============================================================================\n",
      "                 coef    std err          t      P>|t|      [0.025      0.975]\n",
      "------------------------------------------------------------------------------\n",
      "c0          7.112e-17      0.005   1.37e-14      1.000      -0.010       0.010\n",
      "==============================================================================\n",
      "Intercept:\n",
      "                             Test for Constraints                             \n",
      "==============================================================================\n",
      "                 coef    std err          t      P>|t|      [0.025      0.975]\n",
      "------------------------------------------------------------------------------\n",
      "c0             0.6568      0.005    126.521      0.000       0.647       0.667\n",
      "==============================================================================\n",
      "\n",
      "Scaled: SSE, SST, SSR, and RMSE:\n",
      "SSE: 9102.13649085789\n",
      "SST: 21096.999999999916\n",
      "SSR: 11994.863509142026\n",
      "RMSE: 95.40511773934296\n",
      "                            OLS Regression Results                            \n",
      "==============================================================================\n",
      "Dep. Variable:            price_scale   R-squared:                       0.431\n",
      "Model:                            OLS   Adj. R-squared:                  0.431\n",
      "Method:                 Least Squares   F-statistic:                 1.601e+04\n",
      "Date:                Fri, 24 Aug 2018   Prob (F-statistic):               0.00\n",
      "Time:                        22:16:55   Log-Likelihood:                -23979.\n",
      "No. Observations:               21097   AIC:                         4.796e+04\n",
      "Df Residuals:                   21095   BIC:                         4.798e+04\n",
      "Df Model:                           1                                         \n",
      "Covariance Type:            nonrobust                                         \n",
      "=====================================================================================\n",
      "                        coef    std err          t      P>|t|      [0.025      0.975]\n",
      "-------------------------------------------------------------------------------------\n",
      "Intercept          7.112e-17      0.005   1.37e-14      1.000      -0.010       0.010\n",
      "sqft_living_scale     0.6568      0.005    126.521      0.000       0.647       0.667\n",
      "==============================================================================\n",
      "Omnibus:                     2938.312   Durbin-Watson:                   1.970\n",
      "Prob(Omnibus):                  0.000   Jarque-Bera (JB):             5450.790\n",
      "Skew:                           0.896   Prob(JB):                         0.00\n",
      "Kurtosis:                       4.729   Cond. No.                         1.00\n",
      "==============================================================================\n",
      "\n",
      "Warnings:\n",
      "[1] Standard Errors assume that the covariance matrix of the errors is correctly specified.\n"
     ]
    },
    {
     "name": "stderr",
     "output_type": "stream",
     "text": [
      "C:\\Users\\sl\\AppData\\Local\\Continuum\\anaconda3\\lib\\site-packages\\matplotlib\\axes\\_axes.py:6462: UserWarning: The 'normed' kwarg is deprecated, and has been replaced by the 'density' kwarg.\n",
      "  warnings.warn(\"The 'normed' kwarg is deprecated, and has been \"\n"
     ]
    },
    {
     "data": {
      "text/plain": [
       "Text(0.5,1,'price vs. sqft_living (Scaled)')"
      ]
     },
     "execution_count": 53,
     "metadata": {},
     "output_type": "execute_result"
    },
    {
     "data": {
      "image/png": "[encoded data removed]",
      "text/plain": [
       "<Figure size 432x288 with 2 Axes>"
      ]
     },
     "metadata": {},
     "output_type": "display_data"
    }
   ],
   "source": [
    "x1_scaled = KCH['sqft_living_scale']\n",
    "ols_model = sm.ols(formula='price_scale ~ sqft_living_scale', data = KCH)\n",
    "y_pred_1 = ols_model.fit().predict()\n",
    "results = ols_model.fit()\n",
    "\n",
    "# Get slope (m) and y-intercept (b)\n",
    "print('Scaled: Intercept, Slope : {}'.format(results.params))\n",
    "\n",
    "# Get the t-values (hypothesis test statistics) for linear regression coefficient hypothesis tests.\n",
    "print('Scaled: Intercept t-value, Slope t-value: {}'.format(results.tvalues))\n",
    "\n",
    "# Get p-values for above t-value statistics\n",
    "print('\\nHypothesis test summary for each coefficient if they differ from zero:')\n",
    "print('Slope:')\n",
    "print(results.t_test([1,0]))\n",
    "print('Intercept:')\n",
    "print(results.t_test([0,1]))\n",
    "\n",
    "print('\\nScaled: SSE, SST, SSR, and RMSE:')\n",
    "mean_y = np.mean(y_output)\n",
    "sst = np.sum((y_output - mean_y)**2)\n",
    "sse = sst - results.ssr\n",
    "print('SSE: {}'.format(sse))\n",
    "print('SST: {}'.format(sst))\n",
    "print('SSR: {}'.format(results.ssr))\n",
    "print('RMSE: {}'.format(np.sqrt(results.mse_model)))\n",
    "\n",
    "# Get most of the linear regression statistics we are interested in:\n",
    "print(results.summary())\n",
    "\n",
    "# Plot a histogram of the residuals\n",
    "plt.subplot(1, 2, 1)\n",
    "sns.distplot(results.resid, hist=True)\n",
    "plt.xlabel('Residual')\n",
    "plt.ylabel('Frequency')\n",
    "plt.title('Scaled Residual Histogram\\n price vs. sqft_living (Scaled)')\n",
    "plt.subplot(1, 2, 2)\n",
    "plt.scatter(x1_scaled, y_output)\n",
    "plt.plot(x1_scaled, y_pred_1, '-r', linewidth=2)\n",
    "plt.grid(True)\n",
    "plt.xlabel('sqft_living')\n",
    "plt.ylabel('price')\n",
    "plt.title('price vs. sqft_living (Scaled)')"
   ]
  },
  {
   "cell_type": "markdown",
   "metadata": {},
   "source": [
    "## Note:\n",
    "- Based on analysis above, simple linear regression model shows a very bad performance\n",
    "- House price is whidely spreaded around a linearly fitted regression model and this is why the predictability gets pretty bad. R-squared is only 0.493 which I think is pretty low.."
   ]
  },
  {
   "cell_type": "markdown",
   "metadata": {},
   "source": [
    "## Model2 - Multiple Features for Single Label - OLS Model :"
   ]
  },
  {
   "cell_type": "code",
   "execution_count": 54,
   "metadata": {},
   "outputs": [
    {
     "name": "stdout",
     "output_type": "stream",
     "text": [
      "Intercept, Slopes : \n",
      "Intercept              7.112366e-17\n",
      "bedrooms_scale        -1.243611e-01\n",
      "bathrooms_scale       -1.091840e-03\n",
      "sqft_living_scale      6.256829e+11\n",
      "floors_scale           7.963425e-02\n",
      "sqft_above_scale      -5.781828e+11\n",
      "sqft_basement_scale   -3.206166e+11\n",
      "dtype: float64\n",
      "Intercept t-value, Slope t-values: \n",
      "Intercept              1.386491e-14\n",
      "bedrooms_scale        -1.373799e+01\n",
      "bathrooms_scale       -1.304535e-01\n",
      "sqft_living_scale      9.017481e-01\n",
      "floors_scale           1.164056e+01\n",
      "sqft_above_scale      -9.017481e-01\n",
      "sqft_basement_scale   -9.017481e-01\n",
      "dtype: float64\n",
      "\n",
      "Hypothesis test summary for each coefficient if they differ from zero:\n",
      "Intercept              1.000000e+00\n",
      "bedrooms_scale         9.188975e-43\n",
      "bathrooms_scale        8.962088e-01\n",
      "sqft_living_scale      3.672010e-01\n",
      "floors_scale           3.193636e-31\n",
      "sqft_above_scale       3.672010e-01\n",
      "sqft_basement_scale    3.672010e-01\n",
      "dtype: float64\n",
      "\n",
      "SSE, SST, SSR, and RMSE:\n",
      "SSE: 9388.763960235825\n",
      "SST: 21096.999999999916\n",
      "SSR: 11708.236039764091\n",
      "RMSE: 39.55747708553514\n",
      "                            OLS Regression Results                            \n",
      "==============================================================================\n",
      "Dep. Variable:            price_scale   R-squared:                       0.445\n",
      "Model:                            OLS   Adj. R-squared:                  0.445\n",
      "Method:                 Least Squares   F-statistic:                     2819.\n",
      "Date:                Fri, 24 Aug 2018   Prob (F-statistic):               0.00\n",
      "Time:                        22:16:57   Log-Likelihood:                -23724.\n",
      "No. Observations:               21097   AIC:                         4.746e+04\n",
      "Df Residuals:                   21090   BIC:                         4.752e+04\n",
      "Df Model:                           6                                         \n",
      "Covariance Type:            nonrobust                                         \n",
      "=======================================================================================\n",
      "                          coef    std err          t      P>|t|      [0.025      0.975]\n",
      "---------------------------------------------------------------------------------------\n",
      "Intercept            7.112e-17      0.005   1.39e-14      1.000      -0.010       0.010\n",
      "bedrooms_scale         -0.1244      0.009    -13.738      0.000      -0.142      -0.107\n",
      "bathrooms_scale        -0.0011      0.008     -0.130      0.896      -0.017       0.015\n",
      "sqft_living_scale    6.257e+11   6.94e+11      0.902      0.367   -7.34e+11    1.99e+12\n",
      "floors_scale            0.0796      0.007     11.641      0.000       0.066       0.093\n",
      "sqft_above_scale    -5.782e+11   6.41e+11     -0.902      0.367   -1.83e+12    6.79e+11\n",
      "sqft_basement_scale -3.206e+11   3.56e+11     -0.902      0.367   -1.02e+12    3.76e+11\n",
      "==============================================================================\n",
      "Omnibus:                     3052.064   Durbin-Watson:                   1.968\n",
      "Prob(Omnibus):                  0.000   Jarque-Bera (JB):             5960.419\n",
      "Skew:                           0.905   Prob(JB):                         0.00\n",
      "Kurtosis:                       4.872   Cond. No.                     3.55e+14\n",
      "==============================================================================\n",
      "\n",
      "Warnings:\n",
      "[1] Standard Errors assume that the covariance matrix of the errors is correctly specified.\n",
      "[2] The smallest eigenvalue is 5.45e-25. This might indicate that there are\n",
      "strong multicollinearity problems or that the design matrix is singular.\n"
     ]
    },
    {
     "name": "stderr",
     "output_type": "stream",
     "text": [
      "C:\\Users\\sl\\AppData\\Local\\Continuum\\anaconda3\\lib\\site-packages\\matplotlib\\axes\\_axes.py:6462: UserWarning: The 'normed' kwarg is deprecated, and has been replaced by the 'density' kwarg.\n",
      "  warnings.warn(\"The 'normed' kwarg is deprecated, and has been \"\n"
     ]
    },
    {
     "data": {
      "text/plain": [
       "Text(0.5,1,'Residual Histogram')"
      ]
     },
     "execution_count": 54,
     "metadata": {},
     "output_type": "execute_result"
    },
    {
     "data": {
      "image/png": "[encoded data removed]",
      "text/plain": [
       "<Figure size 432x288 with 1 Axes>"
      ]
     },
     "metadata": {},
     "output_type": "display_data"
    }
   ],
   "source": [
    "ols_model = sm.ols(formula = 'price_scale ~ bedrooms_scale + bathrooms_scale + bedrooms_scale + sqft_living_scale + floors_scale + sqft_above_scale + sqft_basement_scale + 1', data=KCH)\n",
    "\n",
    "results = ols_model.fit()\n",
    "n_points = KCH.shape[0]\n",
    "y_output = KCH['price_scale']\n",
    "\n",
    "# Get slope (m) and y-intercept (b)\n",
    "print('Intercept, Slopes : \\n{}'.format(results.params))\n",
    "\n",
    "# Get the t-values (hypothesis test statistics) for linear regression coefficient hypothesis tests.\n",
    "print('Intercept t-value, Slope t-values: \\n{}'.format(results.tvalues))\n",
    "\n",
    "# Get p-values for above t-value statistics\n",
    "print('\\nHypothesis test summary for each coefficient if they differ from zero:')\n",
    "print(results.pvalues)\n",
    "\n",
    "print('\\nSSE, SST, SSR, and RMSE:')\n",
    "mean_y = np.mean(y_output)\n",
    "sst = np.sum((y_output - mean_y)**2)\n",
    "sse = sst - results.ssr\n",
    "print('SSE: {}'.format(sse))\n",
    "print('SST: {}'.format(sst))\n",
    "print('SSR: {}'.format(results.ssr))\n",
    "print('RMSE: {}'.format(np.sqrt(results.mse_model)))\n",
    "\n",
    "# Get most of the linear regression statistics we are interested in:\n",
    "print(results.summary())\n",
    "\n",
    "# Plot a histogram of the residuals\n",
    "sns.distplot(results.resid, hist=True)\n",
    "plt.xlabel('Residual')\n",
    "plt.ylabel('Frequency')\n",
    "plt.title('Residual Histogram')"
   ]
  },
  {
   "cell_type": "markdown",
   "metadata": {},
   "source": [
    "## Note:\n",
    "- Based on the p-value, all features seems significant, excpet for the bathrooms and intercept. and I don't see any indications of \"over-fitting\" of model parameters.\n",
    "- R-squared value (~0.5) seems too high.\n",
    "- The residual plot seem to be well behaved."
   ]
  },
  {
   "cell_type": "markdown",
   "metadata": {},
   "source": [
    "## Model3 - Multiple Features for Single Label - SVD Method :"
   ]
  },
  {
   "cell_type": "markdown",
   "metadata": {},
   "source": [
    "### 3.1. To create a model matrix of the features for the house price data:"
   ]
  },
  {
   "cell_type": "code",
   "execution_count": 55,
   "metadata": {
    "scrolled": false
   },
   "outputs": [
    {
     "name": "stdout",
     "output_type": "stream",
     "text": [
      "1st 5 rows of Data Frame: \n",
      "   bedrooms_scale  bathrooms_scale  bedrooms_scale  sqft_living_scale  \\\n",
      "0       -0.388433        -1.475014       -0.388433          -1.021069   \n",
      "1       -0.388433         0.231561       -0.388433           0.664165   \n",
      "2       -1.502401        -1.475014       -1.502401          -1.518152   \n",
      "3        0.725536         1.255506        0.725536          -0.075398   \n",
      "4       -0.388433        -0.109754       -0.388433          -0.414870   \n",
      "\n",
      "   floors_scale  sqft_above_scale  sqft_basement_scale  \n",
      "0     -0.901831         -0.739363            -0.659288  \n",
      "1      0.956442          0.559519             0.287110  \n",
      "2     -0.901831         -1.277284            -0.659288  \n",
      "3     -0.901831         -0.909923             1.493767  \n",
      "4     -0.901831         -0.083362            -0.659288  \n",
      "\n",
      "1st 5 rows in matrix Form: \n",
      "[[-0.38843264 -1.47501378 -0.38843264 -1.02106889 -0.90183089 -0.73936275\n",
      "  -0.65928764]\n",
      " [-0.38843264  0.23156092 -0.38843264  0.66416502  0.95644194  0.55951938\n",
      "   0.28711004]\n",
      " [-1.50240087 -1.47501378 -1.50240087 -1.51815227 -0.90183089 -1.27728363\n",
      "  -0.65928764]\n",
      " [ 0.72553559  1.25550574  0.72553559 -0.07539806 -0.90183089 -0.90992303\n",
      "   1.49376708]\n",
      " [-0.38843264 -0.10975402 -0.38843264 -0.41486964 -0.90183089 -0.08336167\n",
      "  -0.65928764]]\n"
     ]
    },
    {
     "name": "stderr",
     "output_type": "stream",
     "text": [
      "C:\\Users\\sl\\AppData\\Local\\Continuum\\anaconda3\\lib\\site-packages\\ipykernel_launcher.py:3: FutureWarning: Method .as_matrix will be removed in a future version. Use .values instead.\n",
      "  This is separate from the ipykernel package so we can avoid doing imports until\n"
     ]
    }
   ],
   "source": [
    "KCH_vars = KCH.loc[:,['bedrooms_scale', 'bathrooms_scale','bedrooms_scale', 'sqft_living_scale', 'floors_scale', 'sqft_above_scale', 'sqft_basement_scale']]\n",
    "#KCH_vars = KCH.loc[:,['bedrooms_scale', 'bathrooms_scale','bedrooms_scale', 'sqft_living_scale', 'floors_scale', 'sqft_above_scale', 'sqft_basement_scale']]\n",
    "M = KCH_vars.as_matrix()\n",
    "HousePrice = KCH.loc[:,'price_scale']\n",
    "\n",
    "print('1st 5 rows of Data Frame: ')\n",
    "print(KCH_vars.head())\n",
    "print('\\n1st 5 rows in matrix Form: ')\n",
    "print(M[0:5, :])"
   ]
  },
  {
   "cell_type": "markdown",
   "metadata": {},
   "source": [
    "### 3.2. To compute the SVD of the resulting matrix and examine the singular values:"
   ]
  },
  {
   "cell_type": "code",
   "execution_count": 56,
   "metadata": {},
   "outputs": [
    {
     "name": "stdout",
     "output_type": "stream",
     "text": [
      "beta coefficients: [-0.05935089 -0.00071287 -0.05935089  0.37153321  0.07979255  0.28181944\n",
      "  0.21682858]\n",
      "\n",
      "singular values: [2.85056349e+02 1.80389424e+02 1.32000561e+02 1.03604611e+02\n",
      " 7.56536213e+01 6.96780355e-13 2.53816856e-14]\n"
     ]
    }
   ],
   "source": [
    "# default setting\n",
    "#beta_coeffs, resids, rank, s = np.linalg.lstsq(M,childHeight)\n",
    "# more advanced setting (we want to treat 10 times smaller values to be zero in the singular values)\n",
    "# i.e. forcing into \"more biased and more stable regression\" by getting rid of small singular values.\n",
    "# i.e. \"truncating the problem dimension\"\n",
    "beta_coeffs, resids, rank, s = np.linalg.lstsq(M,HousePrice,rcond=0.1)\n",
    "\n",
    "print('beta coefficients: {}'.format(beta_coeffs))\n",
    "\n",
    "print('\\nsingular values: {}'.format(s))"
   ]
  },
  {
   "cell_type": "markdown",
   "metadata": {},
   "source": [
    "### Note:\n",
    "- The 6th and 7th singular values are close to zero which means my model matrix is rank deficient.\n",
    "- # Thus, I'll get rid of 6th and 7th feature in my regression modeling!!!!\n",
    "\n",
    "### Evaluation of this regression model:"
   ]
  },
  {
   "cell_type": "code",
   "execution_count": 57,
   "metadata": {},
   "outputs": [
    {
     "name": "stdout",
     "output_type": "stream",
     "text": [
      "SSR: 11707.627839870811\n",
      "SST: 21096.999999999916\n",
      "R-squared = 0.4450572195160043\n"
     ]
    },
    {
     "data": {
      "image/png": "[encoded data removed]",
      "text/plain": [
       "<Figure size 432x288 with 2 Axes>"
      ]
     },
     "metadata": {},
     "output_type": "display_data"
    }
   ],
   "source": [
    "male_predictions = np.dot(M, beta_coeffs) + np.mean(HousePrice)\n",
    "male_resids = male_predictions - HousePrice\n",
    "\n",
    "# Plot the residuals vs score (height)\n",
    "plt.subplot(1, 2, 1)\n",
    "plt.plot(male_predictions, male_resids, '.')\n",
    "plt.ylabel('residuals')\n",
    "plt.xlabel('score(House Price)')\n",
    "plt.title('Residuals vs Score')\n",
    "\n",
    "# Histogram of residuals\n",
    "plt.subplot(1, 2, 2)\n",
    "plt.hist(male_resids)\n",
    "plt.title('Histogram of Residuals')\n",
    "\n",
    "# R-squared\n",
    "#              SSR\n",
    "# R^2 = 1 -  -------\n",
    "#              SST\n",
    "\n",
    "SSR = np.sum(np.square(male_resids))\n",
    "SST = np.sum(np.square(HousePrice - np.mean(HousePrice)))\n",
    "\n",
    "print('SSR: {}'.format(SSR))\n",
    "print('SST: {}'.format(SST))\n",
    "\n",
    "R2 = 1.0 - (SSR / SST)\n",
    "\n",
    "print('R-squared = {}'.format(R2))\n"
   ]
  },
  {
   "cell_type": "markdown",
   "metadata": {},
   "source": [
    "## Model4 - Multiple Features for Single Label - Principal Component Regression Method :"
   ]
  },
  {
   "cell_type": "markdown",
   "metadata": {},
   "source": [
    "### 4.1. To create a model matrix of the features for the house price data:"
   ]
  },
  {
   "cell_type": "code",
   "execution_count": 58,
   "metadata": {},
   "outputs": [],
   "source": [
    "from sklearn.decomposition import PCA\n",
    "from sklearn.preprocessing import StandardScaler"
   ]
  },
  {
   "cell_type": "code",
   "execution_count": 59,
   "metadata": {},
   "outputs": [
    {
     "name": "stdout",
     "output_type": "stream",
     "text": [
      "        pc1       pc2       pc3       pc4       pc5           pc6  \\\n",
      "0 -2.045184  0.302227  0.891776  0.446224 -0.214764  6.722780e-13   \n",
      "1  0.584803 -0.793564 -0.912534 -0.110919 -0.538528  6.825885e-14   \n",
      "2 -3.436841 -0.135105  0.010790  0.208317  0.025229  1.126184e-14   \n",
      "3  0.728779  2.013007 -0.408348 -0.825239  1.037448 -1.314926e-13   \n",
      "4 -0.916120 -0.071012  0.214960  0.655156  0.648904 -2.648275e-14   \n",
      "\n",
      "            pc7  \n",
      "0  3.546679e-15  \n",
      "1 -7.027333e-15  \n",
      "2 -1.149854e-15  \n",
      "3  1.357772e-14  \n",
      "4  2.741324e-15  \n",
      "(21097, 7)\n"
     ]
    },
    {
     "name": "stderr",
     "output_type": "stream",
     "text": [
      "C:\\Users\\sl\\AppData\\Local\\Continuum\\anaconda3\\lib\\site-packages\\ipykernel_launcher.py:2: FutureWarning: Method .as_matrix will be removed in a future version. Use .values instead.\n",
      "  \n"
     ]
    }
   ],
   "source": [
    "# Calculate all the Principal components\n",
    "X = KCH.as_matrix(columns=['bedrooms_scale', 'bathrooms_scale','bedrooms_scale', 'sqft_living_scale', 'floors_scale', 'sqft_above_scale', 'sqft_basement_scale'])\n",
    "y = KCH['price_scale']\n",
    "pca = PCA()\n",
    "pca_result = pca.fit_transform(X)\n",
    "pca_df = pd.DataFrame(data = pca_result, columns=['pc1', 'pc2', 'pc3', 'pc4', 'pc5', 'pc6', 'pc7'])\n",
    "\n",
    "# Here is our data projected onto the four principal components.\n",
    "print(pca_df.head())\n",
    "print(pca_df.shape)\n",
    "\n",
    "pca_df['price_scale'] = KCH['price_scale']"
   ]
  },
  {
   "cell_type": "markdown",
   "metadata": {},
   "source": [
    "### 4.2. Regression Model:"
   ]
  },
  {
   "cell_type": "code",
   "execution_count": 60,
   "metadata": {},
   "outputs": [
    {
     "name": "stdout",
     "output_type": "stream",
     "text": [
      "                            OLS Regression Results                            \n",
      "==============================================================================\n",
      "Dep. Variable:            price_scale   R-squared:                       0.000\n",
      "Model:                            OLS   Adj. R-squared:                  0.000\n",
      "Method:                 Least Squares   F-statistic:                     1.624\n",
      "Date:                Fri, 24 Aug 2018   Prob (F-statistic):              0.136\n",
      "Time:                        22:16:58   Log-Likelihood:                -29223.\n",
      "No. Observations:               20602   AIC:                         5.846e+04\n",
      "Df Residuals:                   20595   BIC:                         5.852e+04\n",
      "Df Model:                           6                                         \n",
      "Covariance Type:            nonrobust                                         \n",
      "==============================================================================\n",
      "                 coef    std err          t      P>|t|      [0.025      0.975]\n",
      "------------------------------------------------------------------------------\n",
      "Intercept     -0.0050      0.007     -0.712      0.477      -0.019       0.009\n",
      "pc1            0.0004      0.004      0.106      0.915      -0.007       0.007\n",
      "pc2           -0.0101      0.006     -1.792      0.073      -0.021       0.001\n",
      "pc3           -0.0089      0.008     -1.163      0.245      -0.024       0.006\n",
      "pc4           -0.0098      0.010     -0.998      0.318      -0.029       0.009\n",
      "pc5            0.0223      0.013      1.663      0.096      -0.004       0.049\n",
      "pc6        -1.721e+12   1.45e+12     -1.186      0.235   -4.56e+12    1.12e+12\n",
      "pc7         4.562e+06   3.85e+06      1.186      0.235   -2.98e+06    1.21e+07\n",
      "==============================================================================\n",
      "Omnibus:                     4105.511   Durbin-Watson:                   1.969\n",
      "Prob(Omnibus):                  0.000   Jarque-Bera (JB):             7709.552\n",
      "Skew:                           1.238   Prob(JB):                         0.00\n",
      "Kurtosis:                       4.689   Cond. No.                     1.72e+16\n",
      "==============================================================================\n",
      "\n",
      "Warnings:\n",
      "[1] Standard Errors assume that the covariance matrix of the errors is correctly specified.\n",
      "[2] The smallest eigenvalue is 2.67e-28. This might indicate that there are\n",
      "strong multicollinearity problems or that the design matrix is singular.\n"
     ]
    },
    {
     "name": "stderr",
     "output_type": "stream",
     "text": [
      "C:\\Users\\sl\\AppData\\Local\\Continuum\\anaconda3\\lib\\site-packages\\matplotlib\\axes\\_axes.py:6462: UserWarning: The 'normed' kwarg is deprecated, and has been replaced by the 'density' kwarg.\n",
      "  warnings.warn(\"The 'normed' kwarg is deprecated, and has been \"\n"
     ]
    },
    {
     "data": {
      "text/plain": [
       "Text(0.5,1,'Residual Histogram')"
      ]
     },
     "execution_count": 60,
     "metadata": {},
     "output_type": "execute_result"
    },
    {
     "data": {
      "image/png": "[encoded data removed]",
      "text/plain": [
       "<Figure size 432x288 with 1 Axes>"
      ]
     },
     "metadata": {},
     "output_type": "display_data"
    }
   ],
   "source": [
    "pcr_model = sm.ols(formula = 'price_scale ~ pc1 + pc2 + pc3 + pc4 + pc5 + pc6 + pc7', data=pca_df)\n",
    "\n",
    "results = pcr_model.fit()\n",
    "n_points = pca_df.shape[0]\n",
    "y_output = pca_df['price_scale'].values.reshape(n_points, 1)\n",
    "\n",
    "# Get most of the linear regression statistics we are interested in:\n",
    "print(results.summary())\n",
    "\n",
    "# Plot a histogram of the residuals\n",
    "sns.distplot(results.resid, hist=True)\n",
    "plt.xlabel('Residual')\n",
    "plt.ylabel('Frequency')\n",
    "plt.title('Residual Histogram')"
   ]
  },
  {
   "cell_type": "markdown",
   "metadata": {},
   "source": [
    "## Model5 - Multiple Features for Single Label - Ridge / Lasso Regression Methods :"
   ]
  },
  {
   "cell_type": "markdown",
   "metadata": {},
   "source": [
    "### 5.1. Ridge Regression Model"
   ]
  },
  {
   "cell_type": "code",
   "execution_count": 61,
   "metadata": {},
   "outputs": [
    {
     "name": "stdout",
     "output_type": "stream",
     "text": [
      "Inverse Singular Value Matrix:\n",
      "[[0.00349581 0.         0.         0.         0.         0.\n",
      "  0.        ]\n",
      " [0.         0.005513   0.         0.         0.         0.\n",
      "  0.        ]\n",
      " [0.         0.         0.00751877 0.         0.         0.\n",
      "  0.        ]\n",
      " [0.         0.         0.         0.00955981 0.         0.\n",
      "  0.        ]\n",
      " [0.         0.         0.         0.         0.0130457  0.\n",
      "  0.        ]\n",
      " [0.         0.         0.         0.         0.         1.\n",
      "  0.        ]\n",
      " [0.         0.         0.         0.         0.         0.\n",
      "  1.        ]]\n",
      "M Inverse\n",
      "[[ 3.10222288e-01 -6.39598500e-02  2.68272897e-03 ...  5.23691384e-04\n",
      "  -7.37105575e-04  5.23691384e-04]\n",
      " [-6.85398547e-05 -4.86445617e-05 -1.92920349e-05 ... -1.57526545e-04\n",
      "   7.75997552e-05 -1.57526545e-04]\n",
      " [-3.10196030e-01  6.39092078e-02 -2.72425924e-03 ... -5.57286271e-04\n",
      "   7.23822985e-04 -5.57286271e-04]\n",
      " ...\n",
      " [-2.34292490e-05  6.66075800e-05 -2.20934374e-05 ...  1.41614009e-04\n",
      "   3.72598644e-05  1.41614009e-04]\n",
      " [-5.69513245e-01 -2.84412229e-02  9.70223817e-04 ...  1.81526968e-05\n",
      "  -1.18140613e-04  1.81526968e-05]\n",
      " [-3.15840240e-01 -1.57364491e-02  5.26139514e-04 ...  6.36988191e-05\n",
      "  -6.76910830e-05  6.36988191e-05]]\n"
     ]
    }
   ],
   "source": [
    "U, s, V = np.linalg.svd(M, full_matrices=False)\n",
    "\n",
    "# Calculate the inverse singular value matrix from SVD\n",
    "lambda_val = 1.0\n",
    "d = np.diag(1. /  (s + lambda_val))\n",
    "\n",
    "print('Inverse Singular Value Matrix:')\n",
    "print(d)\n",
    "\n",
    "# Compute pseudo-inverse\n",
    "mInv = np.dot(np.transpose(V), np.dot(d, np.transpose(U)))\n",
    "\n",
    "print('M Inverse')\n",
    "print(mInv)"
   ]
  },
  {
   "cell_type": "code",
   "execution_count": 62,
   "metadata": {},
   "outputs": [
    {
     "name": "stdout",
     "output_type": "stream",
     "text": [
      "Beta's: [ 0.69422694  0.0008759  -0.81106892 -0.07327471  0.07922204  0.68839164\n",
      "  0.44160624]\n"
     ]
    }
   ],
   "source": [
    "beta_coeffs_ridge = np.dot(mInv, HousePrice)\n",
    "print('Beta\\'s: {}'.format(beta_coeffs_ridge))"
   ]
  },
  {
   "cell_type": "code",
   "execution_count": 63,
   "metadata": {},
   "outputs": [],
   "source": [
    "# Ridge Regression with various penalties in Statsmodels\n",
    "# Generate a sequence of lambdas\n",
    "log_lambda_seq = np.linspace(-6, 2, 50)\n",
    "lambda_seq = np.exp(log_lambda_seq)\n",
    "\n",
    "coeffs_array = []\n",
    "rsq_array = []\n",
    "formula = 'price_scale ~ bedrooms_scale + bathrooms_scale + bedrooms_scale + sqft_living_scale + floors_scale + sqft_above_scale + sqft_basement_scale + 1'\n",
    "\n",
    "for lamb in lambda_seq:\n",
    "    ridge_model = sm.ols(formula, data=KCH).fit_regularized(method='elastic_net', alpha=lamb, L1_wt=0)\n",
    "    coeffs_array.append(list(ridge_model.params))\n",
    "    predictions = ridge_model.fittedvalues\n",
    "    residuals = [x - y for x, y in zip(np.squeeze(predictions), HousePrice)]\n",
    "\n",
    "    SSR = np.sum(np.square(residuals))\n",
    "    SST = np.sum(np.square(HousePrice - np.mean(HousePrice)))\n",
    "\n",
    "    rsq = 1 - (SSR / SST)\n",
    "    rsq_array.append(rsq)"
   ]
  },
  {
   "cell_type": "code",
   "execution_count": 64,
   "metadata": {},
   "outputs": [
    {
     "data": {
      "text/plain": [
       "Text(0.5,0,'Log-Lambda')"
      ]
     },
     "execution_count": 64,
     "metadata": {},
     "output_type": "execute_result"
    },
    {
     "data": {
      "image/png": "[encoded data removed]",
      "text/plain": [
       "<Figure size 432x288 with 1 Axes>"
      ]
     },
     "metadata": {},
     "output_type": "display_data"
    }
   ],
   "source": [
    "# Pull out partial slopes (drop intercept version)\n",
    "beta_coeffs = [x[1:] for x in coeffs_array]\n",
    "plt.plot(log_lambda_seq, beta_coeffs)\n",
    "plt.title('Partial Slopes vs Log-Lambda')\n",
    "plt.ylabel('Partial Slopes')\n",
    "plt.xlabel('Log-Lambda')"
   ]
  },
  {
   "cell_type": "code",
   "execution_count": 65,
   "metadata": {},
   "outputs": [
    {
     "data": {
      "text/plain": [
       "Text(0,0.5,'Partial Slopes')"
      ]
     },
     "execution_count": 65,
     "metadata": {},
     "output_type": "execute_result"
    },
    {
     "data": {
      "image/png": "[encoded data removed]",
      "text/plain": [
       "<Figure size 432x288 with 1 Axes>"
      ]
     },
     "metadata": {},
     "output_type": "display_data"
    }
   ],
   "source": [
    "# Plot partial slopes vs R squared (% deviance explained)\n",
    "plt.plot(rsq_array, beta_coeffs)\n",
    "#plt.xlim([0.0, 0.25])\n",
    "plt.title('Partial Slopes vs R-squared')\n",
    "plt.xlabel('R-squared')\n",
    "plt.ylabel('Partial Slopes')"
   ]
  },
  {
   "cell_type": "markdown",
   "metadata": {},
   "source": [
    "### Note:\n",
    "- Based on the sensitivity test above, it seems that the R_squared value of ~ 0.45 is a well balanced trad-off point to take between variance and bias in this model"
   ]
  },
  {
   "cell_type": "markdown",
   "metadata": {},
   "source": [
    "### 5.2. Lasso Regression Model"
   ]
  },
  {
   "cell_type": "code",
   "execution_count": 66,
   "metadata": {},
   "outputs": [],
   "source": [
    "# Lasso Regression with a sequence of lambdas\n",
    "# Generate a sequence of lambdas\n",
    "log_lambda_seq = np.linspace(-6, 2, 50)\n",
    "lambda_seq = np.exp(log_lambda_seq)\n",
    "\n",
    "coeffs_array = []\n",
    "rsq_array = []\n",
    "formula = 'price_scale ~ bedrooms_scale + bathrooms_scale + bedrooms_scale + sqft_living_scale + floors_scale + sqft_above_scale + sqft_basement_scale + 1'\n",
    "\n",
    "for lamb in lambda_seq:\n",
    "    ridge_model = sm.ols(formula, data=KCH).fit_regularized(method='elastic_net', alpha=lamb, L1_wt=1)\n",
    "    coeffs_array.append(list(ridge_model.params))\n",
    "    predictions = ridge_model.fittedvalues\n",
    "    residuals = [x - y for x, y in zip(np.squeeze(predictions), HousePrice)]\n",
    "\n",
    "    SSR = np.sum(np.square(residuals))\n",
    "    SST = np.sum(np.square(HousePrice - np.mean(HousePrice)))\n",
    "\n",
    "    rsq = 1 - (SSR / SST)\n",
    "    rsq_array.append(rsq)"
   ]
  },
  {
   "cell_type": "code",
   "execution_count": 67,
   "metadata": {},
   "outputs": [
    {
     "data": {
      "text/plain": [
       "Text(0.5,0,'Log-Lambda')"
      ]
     },
     "execution_count": 67,
     "metadata": {},
     "output_type": "execute_result"
    },
    {
     "data": {
      "image/png": "[encoded data removed]",
      "text/plain": [
       "<Figure size 432x288 with 1 Axes>"
      ]
     },
     "metadata": {},
     "output_type": "display_data"
    }
   ],
   "source": [
    "# Pull out partial slopes (drop intercept version)\n",
    "beta_coeffs = [x[1:] for x in coeffs_array]\n",
    "plt.plot(log_lambda_seq, beta_coeffs)\n",
    "plt.title('Partial Slopes vs Log-Lambda')\n",
    "plt.ylabel('Partial Slope Values')\n",
    "plt.xlabel('Log-Lambda')"
   ]
  },
  {
   "cell_type": "markdown",
   "metadata": {},
   "source": [
    "### 5.3. Elastic Net Regression Model"
   ]
  },
  {
   "cell_type": "code",
   "execution_count": 68,
   "metadata": {},
   "outputs": [],
   "source": [
    "# Elasticnet Regression with a sequence of lambdas\n",
    "# Generate a sequence of lambdas\n",
    "log_lambda_seq = np.linspace(-6, 0, 50)\n",
    "lambda_seq = np.exp(log_lambda_seq)\n",
    "\n",
    "coeffs_array = []\n",
    "rsq_array = []\n",
    "formula = 'price_scale ~ bedrooms_scale + bathrooms_scale + bedrooms_scale + sqft_living_scale + floors_scale + sqft_above_scale + sqft_basement_scale + 1'\n",
    "\n",
    "for lamb in lambda_seq:\n",
    "    ridge_model = sm.ols(formula, data=KCH).fit_regularized(method='elastic_net', alpha=lamb, L1_wt=0.75)\n",
    "    coeffs_array.append(list(ridge_model.params))\n",
    "    predictions = ridge_model.fittedvalues\n",
    "    residuals = [x - y for x, y in zip(np.squeeze(predictions), HousePrice)]\n",
    "\n",
    "    SSR = np.sum(np.square(residuals))\n",
    "    SST = np.sum(np.square(HousePrice - np.mean(HousePrice)))\n",
    "\n",
    "    rsq = 1 - (SSR / SST)\n",
    "    rsq_array.append(rsq)"
   ]
  },
  {
   "cell_type": "code",
   "execution_count": 69,
   "metadata": {},
   "outputs": [
    {
     "data": {
      "text/plain": [
       "Text(0.5,0,'Log-Lambda')"
      ]
     },
     "execution_count": 69,
     "metadata": {},
     "output_type": "execute_result"
    },
    {
     "data": {
      "image/png": "[encoded data removed]",
      "text/plain": [
       "<Figure size 432x288 with 1 Axes>"
      ]
     },
     "metadata": {},
     "output_type": "display_data"
    }
   ],
   "source": [
    "# Pull out partial slopes (drop intercept version)\n",
    "beta_coeffs = [x[1:] for x in coeffs_array]\n",
    "plt.plot(log_lambda_seq, beta_coeffs)\n",
    "plt.title('Partial Slopes vs Log-Lambda')\n",
    "plt.ylabel('Partial Slope Values')\n",
    "plt.xlabel('Log-Lambda')"
   ]
  },
  {
   "cell_type": "code",
   "execution_count": 70,
   "metadata": {
    "scrolled": true
   },
   "outputs": [
    {
     "data": {
      "text/plain": [
       "Text(0,0.5,'Partial Slopes')"
      ]
     },
     "execution_count": 70,
     "metadata": {},
     "output_type": "execute_result"
    },
    {
     "data": {
      "image/png": "[encoded data removed]",
      "text/plain": [
       "<Figure size 432x288 with 1 Axes>"
      ]
     },
     "metadata": {},
     "output_type": "display_data"
    }
   ],
   "source": [
    "# Plot partial slopes vs R squared (% deviance explained)\n",
    "plt.plot(rsq_array, beta_coeffs)\n",
    "#plt.xlim([0.0, 0.25])\n",
    "plt.title('Partial Slopes vs R-squared')\n",
    "plt.xlabel('R-squared')\n",
    "plt.ylabel('Partial Slopes')"
   ]
  },
  {
   "cell_type": "markdown",
   "metadata": {},
   "source": [
    "# ANALYSIS PART 2 - REGRESSION MODEL - END"
   ]
  },
  {
   "cell_type": "markdown",
   "metadata": {},
   "source": [
    "# -------------------------------------------------------------------------------------------\n",
    "# -------------------------------------------------------------------------------------------"
   ]
  },
  {
   "cell_type": "markdown",
   "metadata": {},
   "source": [
    "# ANALYSIS PART 3 - HYPOTHESIS TEST - START"
   ]
  },
  {
   "cell_type": "markdown",
   "metadata": {},
   "source": [
    "### Import libraries"
   ]
  },
  {
   "cell_type": "code",
   "execution_count": 71,
   "metadata": {},
   "outputs": [],
   "source": [
    "# Import libraries\n",
    "from scipy.stats import norm\n",
    "import numpy.random as nr\n",
    "#\n",
    "import pandas as pd\n",
    "import numpy as np\n",
    "import matplotlib.pyplot as plt\n",
    "from pandas.tools.plotting import scatter_matrix\n",
    "#\n",
    "import scipy.stats as ss\n",
    "import seaborn as sns"
   ]
  },
  {
   "cell_type": "markdown",
   "metadata": {},
   "source": [
    "### Sub-functions to define"
   ]
  },
  {
   "cell_type": "code",
   "execution_count": 72,
   "metadata": {},
   "outputs": [],
   "source": [
    "%matplotlib inline\n",
    "def hist_plot(vec, bins):\n",
    "    import matplotlib.pyplot as plt\n",
    "    from statistics import mean\n",
    "    plt.hist(vec, bins = bins)\n",
    "    plt.axvline(mean(vec), color = 'red')\n",
    "    plt.ylabel('Frequency')\n",
    "    plt.xlabel('Value')\n",
    "    \n",
    "def plot_pop(a, b, cols=['pop_A', 'pop_B'], nbins = 20):\n",
    "    import matplotlib.pyplot as plt\n",
    "    minx = min([min(a), min(b)])\n",
    "    maxx = max([max(a), max(b)])\n",
    "    stepx = (maxx - minx)/(nbins + 1)\n",
    "    bins = [minx + i * stepx for i in range(nbins + 1)]\n",
    "    plt.subplot(2, 1, 1) # The first plot\n",
    "    hist_plot(a, bins)\n",
    "    plt.title('Histograme of ' + cols[0] + ' and ' + cols[1])\n",
    "    plt.subplot(2, 1, 2) # The next plot\n",
    "    hist_plot(b, bins)\n",
    "\n",
    "def t_test(a, b, alpha, alternative='two-sided'):\n",
    "    from scipy import stats\n",
    "    import scipy.stats as ss\n",
    "    import pandas as pd\n",
    "    import statsmodels.stats.weightstats as ws\n",
    "    \n",
    "    diff = a.mean() - b.mean()\n",
    "\n",
    "    res = ss.ttest_ind(a, b)\n",
    "      \n",
    "    means = ws.CompareMeans(ws.DescrStatsW(a), ws.DescrStatsW(b))\n",
    "    confint = means.tconfint_diff(alpha=alpha, alternative=alternative, usevar='unequal') \n",
    "    degfree = means.dof_satt()\n",
    "\n",
    "    index = ['DegFreedom', 'Difference', 'Statistic', 'PValue', 'Low95CI', 'High95CI']\n",
    "    return pd.Series([degfree, diff, res[0], res[1], confint[0], confint[1]], index = index)   \n",
    "\n",
    "def hist_mean_ci(vec, t_test, bins):\n",
    "    import matplotlib.pyplot as plt\n",
    "    from statistics import mean\n",
    "    upper = mean(vec) + t_test[5] - t_test[1]\n",
    "    lower = mean(vec) + t_test[4] - t_test[1]\n",
    "    plt.hist(vec, bins = bins)\n",
    "    plt.axvline(mean(vec), color = 'red')\n",
    "    plt.axvline(upper, color = 'red', linestyle='--')\n",
    "    plt.axvline(lower, color = 'red', linestyle='--')\n",
    "    plt.ylabel('Frequency')\n",
    "    plt.xlabel('Value')\n",
    "\n",
    "def plot_t(a, b, t_test, cols=['pop_A', 'pop_B'], nbins = 20):\n",
    "    import matplotlib.pyplot as plt\n",
    "    minx = min([min(a), min(b)])\n",
    "    maxx = max([max(a), max(b)])\n",
    "    stepx = (maxx - minx)/(nbins + 1)\n",
    "    bins = [minx + i * stepx for i in range(nbins + 1)]\n",
    "    plt.subplot(2, 1, 1) # The first plot\n",
    "    hist_mean_ci(a, t_test, bins)\n",
    "    plt.title('Histograme of ' + cols[0] + ' and ' + cols[1])\n",
    "    plt.subplot(2, 1, 2) # The next plot\n",
    "    hist_plot(b, bins)"
   ]
  },
  {
   "cell_type": "markdown",
   "metadata": {},
   "source": [
    "### checking the histogram for normality of house prices:"
   ]
  },
  {
   "cell_type": "code",
   "execution_count": 73,
   "metadata": {},
   "outputs": [
    {
     "data": {
      "image/png": "[encoded data removed]",
      "text/plain": [
       "<Figure size 432x288 with 2 Axes>"
      ]
     },
     "metadata": {},
     "output_type": "display_data"
    }
   ],
   "source": [
    "plot_pop(KCH.loc[:, \"price_scale\"], KCH.loc[:, \"price_scale\"], ['Entire Population', 'Entire Population'])    \n",
    "plt.show()"
   ]
  },
  {
   "cell_type": "markdown",
   "metadata": {},
   "source": [
    "### Grouping the population"
   ]
  },
  {
   "cell_type": "markdown",
   "metadata": {},
   "source": [
    "### Group1 - by floors :"
   ]
  },
  {
   "cell_type": "code",
   "execution_count": 84,
   "metadata": {
    "scrolled": false
   },
   "outputs": [
    {
     "data": {
      "image/png": "[encoded data removed]",
      "text/plain": [
       "<Figure size 432x288 with 2 Axes>"
      ]
     },
     "metadata": {},
     "output_type": "display_data"
    },
    {
     "data": {
      "image/png": "[encoded data removed]",
      "text/plain": [
       "<Figure size 432x288 with 2 Axes>"
      ]
     },
     "metadata": {},
     "output_type": "display_data"
    }
   ],
   "source": [
    "Flag_floors_1story = (KCH.loc[:, \"floors\"] >= 1) & (KCH.loc[:, \"floors\"] < 2)\n",
    "Flag_floors_2story = (KCH.loc[:, \"floors\"] >= 2) & (KCH.loc[:, \"floors\"] < 3)\n",
    "Flag_floors_3story = (KCH.loc[:, \"floors\"] >= 3) & (KCH.loc[:, \"floors\"] < 4)\n",
    "Pop_floors_1story = KCH.loc[Flag_floors_1story, \"price\"]\n",
    "Pop_floors_2story = KCH.loc[Flag_floors_2story, \"price\"]\n",
    "Pop_floors_3story = KCH.loc[Flag_floors_3story, \"price\"]\n",
    "## The histogram comparisons\n",
    "plot_pop(Pop_floors_1story, Pop_floors_2story, ['1-Story House (top plot)', '2-Story House (bottome plot)'])\n",
    "plt.show()\n",
    "plot_pop(Pop_floors_2story, Pop_floors_3story, ['2-Story House (top plot)', '3-Story House (bottome plot)'])\n",
    "plt.show()"
   ]
  },
  {
   "cell_type": "markdown",
   "metadata": {},
   "source": [
    "### Note:\n",
    "- Very interesting observation on the histrogram of 1-story house versus 3-story house. My hypothesis was that 3-story house is more expensive than 2-story house."
   ]
  },
  {
   "cell_type": "markdown",
   "metadata": {},
   "source": [
    "### Group2 - by bedrooms :"
   ]
  },
  {
   "cell_type": "code",
   "execution_count": 75,
   "metadata": {},
   "outputs": [
    {
     "data": {
      "image/png": "[encoded data removed]",
      "text/plain": [
       "<Figure size 432x288 with 2 Axes>"
      ]
     },
     "metadata": {},
     "output_type": "display_data"
    },
    {
     "data": {
      "image/png": "[encoded data removed]",
      "text/plain": [
       "<Figure size 432x288 with 2 Axes>"
      ]
     },
     "metadata": {},
     "output_type": "display_data"
    }
   ],
   "source": [
    "Flag_bedrooms_1_2 = (KCH.loc[:, \"bedrooms\"] >= 1) & (KCH.loc[:, \"bedrooms\"] <= 2)\n",
    "Flag_bedrooms_3_4 = (KCH.loc[:, \"bedrooms\"] >= 3) & (KCH.loc[:, \"bedrooms\"] <= 4)\n",
    "Flag_bedrooms_5_6 = (KCH.loc[:, \"bedrooms\"] >= 5) & (KCH.loc[:, \"bedrooms\"] <= 6)\n",
    "Pop_bedrooms_1_2 = KCH.loc[Flag_bedrooms_1_2, \"price\"]\n",
    "Pop_bedrooms_3_4 = KCH.loc[Flag_bedrooms_3_4, \"price\"]\n",
    "Pop_bedrooms_5_6 = KCH.loc[Flag_bedrooms_5_6, \"price\"]\n",
    "## The histogram comparisons\n",
    "plot_pop(Pop_bedrooms_1_2, Pop_bedrooms_3_4, ['Bedrooms 1~2 (top plot)', 'Bedrooms 3~4 (bottome plot)'])\n",
    "plt.show()\n",
    "plot_pop(Pop_bedrooms_3_4, Pop_bedrooms_5_6, ['Bedrooms 3~4 (top plot)', 'Bedrooms 5~6 (bottome plot)'])\n",
    "plt.show()"
   ]
  },
  {
   "cell_type": "markdown",
   "metadata": {},
   "source": [
    "### t-Statistics:"
   ]
  },
  {
   "cell_type": "code",
   "execution_count": 87,
   "metadata": {},
   "outputs": [
    {
     "data": {
      "image/png": "[encoded data removed]",
      "text/plain": [
       "<Figure size 432x288 with 2 Axes>"
      ]
     },
     "metadata": {},
     "output_type": "display_data"
    },
    {
     "name": "stdout",
     "output_type": "stream",
     "text": [
      "DegFreedom      731.904771\n",
      "Difference    49565.622440\n",
      "Statistic         4.401163\n",
      "PValue            0.000011\n",
      "Low95CI       30610.195902\n",
      "High95CI      68521.048978\n",
      "dtype: float64\n"
     ]
    },
    {
     "data": {
      "image/png": "[encoded data removed]",
      "text/plain": [
       "<Figure size 432x288 with 2 Axes>"
      ]
     },
     "metadata": {},
     "output_type": "display_data"
    },
    {
     "name": "stdout",
     "output_type": "stream",
     "text": [
      "DegFreedom     5.114557e+03\n",
      "Difference    -1.125114e+05\n",
      "Statistic     -2.388670e+01\n",
      "PValue        2.661668e-124\n",
      "Low95CI       -1.200308e+05\n",
      "High95CI      -1.049920e+05\n",
      "dtype: float64\n"
     ]
    },
    {
     "data": {
      "image/png": "[encoded data removed]",
      "text/plain": [
       "<Figure size 432x288 with 2 Axes>"
      ]
     },
     "metadata": {},
     "output_type": "display_data"
    },
    {
     "name": "stdout",
     "output_type": "stream",
     "text": [
      "DegFreedom     1.965869e+03\n",
      "Difference    -1.433735e+05\n",
      "Statistic     -2.263934e+01\n",
      "PValue        6.371229e-112\n",
      "Low95CI       -1.578282e+05\n",
      "High95CI      -1.289189e+05\n",
      "dtype: float64\n"
     ]
    }
   ],
   "source": [
    "test_floors = t_test(Pop_floors_2story, Pop_floors_3story, 0.05)\n",
    "plot_t(Pop_floors_2story, Pop_floors_3story, test_floors, ['2-Story House (top plot)', '3-Story House (bottome plot)'])  \n",
    "plt.show()\n",
    "print(test_floors)\n",
    "#\n",
    "test_bedrooms1 = t_test(Pop_bedrooms_1_2, Pop_bedrooms_3_4, 0.05)\n",
    "plot_t(Pop_bedrooms_1_2, Pop_bedrooms_3_4, test_bedrooms1, ['Bedrooms 1~2 (top plot)', 'Bedrooms 3~4 (bottome plot)'])  \n",
    "plt.show()\n",
    "print(test_bedrooms1)\n",
    "#\n",
    "test_bedrooms2 = t_test(Pop_bedrooms_3_4, Pop_bedrooms_5_6, 0.05)\n",
    "plot_t(Pop_bedrooms_3_4, Pop_bedrooms_5_6, test_bedrooms2, ['Bedrooms 3~4 (top plot)', 'Bedrooms 5~6 (bottome plot)'])  \n",
    "plt.show()\n",
    "print(test_bedrooms2)"
   ]
  },
  {
   "cell_type": "markdown",
   "metadata": {},
   "source": [
    "### Note:\n",
    "- The differnece in house prices between 2-story house and 3-story house seems pretty significant. T-statistic is also pretty large and more importantly the p-value is pretty small which indicates that there is a extremely low chance that the difference in means is from random variation alone.\n",
    "- Thus, I should reject the null hypothesis that a 3-story house is more expensive than a 2-story house. In fact, the difference is still significant, but in the opposite way.\n",
    "- The differnece in house prices between different number of bedrooms also seems pretty significant."
   ]
  },
  {
   "cell_type": "code",
   "execution_count": null,
   "metadata": {},
   "outputs": [],
   "source": []
  }
 ],
 "metadata": {
  "kernelspec": {
   "display_name": "Python 3",
   "language": "python",
   "name": "python3"
  },
  "language_info": {
   "codemirror_mode": {
    "name": "ipython",
    "version": 3
   },
   "file_extension": ".py",
   "mimetype": "text/x-python",
   "name": "python",
   "nbconvert_exporter": "python",
   "pygments_lexer": "ipython3",
   "version": "3.6.5"
  }
 },
 "nbformat": 4,
 "nbformat_minor": 1
}
